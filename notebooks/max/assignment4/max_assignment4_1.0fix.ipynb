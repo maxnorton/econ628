{
 "cells": [
  {
   "cell_type": "markdown",
   "metadata": {},
   "source": [
    "## Assignment 4\n",
    "Max Norton"
   ]
  },
  {
   "cell_type": "markdown",
   "metadata": {},
   "source": [
    "### Exercise 7"
   ]
  },
  {
   "cell_type": "code",
   "execution_count": 14,
   "metadata": {},
   "outputs": [
    {
     "name": "stdout",
     "output_type": "stream",
     "text": [
      "\u001b[92m\u001b[1mDownloading \u001b[22m\u001b[39mQuantEcon/QuantEconLecturePackages-v0.3.0 → /home/jupyter/ECON628_2018/notebooks/max/assignment4/.projects\n"
     ]
    },
    {
     "name": "stderr",
     "output_type": "stream",
     "text": [
      "######################################################################### 100.0%\n"
     ]
    },
    {
     "name": "stdout",
     "output_type": "stream",
     "text": [
      "\u001b[92m\u001b[1mInstantiating \u001b[22m\u001b[39m/home/jupyter/ECON628_2018/notebooks/max/assignment4/.projects/QuantEconLecturePackages-v0.3.0\n",
      "\u001b[32m\u001b[1m  Updating\u001b[22m\u001b[39m registry at `~/.julia/registries/General`\n",
      "\u001b[32m\u001b[1m  Updating\u001b[22m\u001b[39m git-repo `https://github.com/JuliaRegistries/General.git`\n",
      "\u001b[2K\u001b[?25h\u001b[32m\u001b[1mPrecompiling\u001b[22m\u001b[39m project...\n",
      "\u001b[32m\u001b[1mPrecompiling\u001b[22m\u001b[39m Interpolations\n"
     ]
    },
    {
     "name": "stderr",
     "output_type": "stream",
     "text": [
      "┌ Info: Precompiling Interpolations [a98d9a8b-a2ab-59e6-89dd-64a1c18fca59]\n",
      "└ @ Base loading.jl:1189\n"
     ]
    }
   ],
   "source": [
    "using InstantiateFromURL\n",
    "activate_github(\"QuantEcon/QuantEconLecturePackages\", tag=\"v0.3.0\");"
   ]
  },
  {
   "cell_type": "code",
   "execution_count": 16,
   "metadata": {},
   "outputs": [],
   "source": [
    "using Plots, Distributions, LinearAlgebra # But I still have to load these packages, I thought that was part of the point of setting the environment?"
   ]
  },
  {
   "cell_type": "code",
   "execution_count": 17,
   "metadata": {},
   "outputs": [
    {
     "data": {
      "text/plain": [
       "getsomeTas (generic function with 1 method)"
      ]
     },
     "execution_count": 17,
     "metadata": {},
     "output_type": "execute_result"
    }
   ],
   "source": [
    "function walk!(x, paramsmn=[.2, 1.0])\n",
    "    α=paramsmn[1]; σ=paramsmn[2];\n",
    "    y=randn()\n",
    "    #@show y\n",
    "    x = α*x + σ*y\n",
    "    #@show x\n",
    "end\n",
    "\n",
    "function makeser(f!, xi, a, n, paramsmn)\n",
    "    ts = ones(n)\n",
    "    ts[1]=xi\n",
    "    for i in 2:n-1\n",
    "        ts[i] = f!(ts[i-1], paramsmn)[1]\n",
    "    end\n",
    "    ts[n]=0\n",
    "    #@show ts\n",
    "    Ta=200\n",
    "    for i in 2:n-1\n",
    "        if ts[i]<= a\n",
    "            Ta=i\n",
    "            break\n",
    "        end\n",
    "    end\n",
    "    (ts, Ta)\n",
    "end\n",
    "\n",
    "function getsomeTas(f!, thismany, xi, a, n, paramsmn)\n",
    "    fpt = Array{Int64}(undef, thismany)\n",
    "    for i in 1:thismany\n",
    "        fpt[i] = makeser(f!, xi, a, n, paramsmn)[2]\n",
    "    end\n",
    "    fpt\n",
    "end"
   ]
  },
  {
   "cell_type": "markdown",
   "metadata": {},
   "source": [
    "1. Plot a histogram of $T_0$ for 100 random walks with $t_{max}=200.$"
   ]
  },
  {
   "cell_type": "code",
   "execution_count": 25,
   "metadata": {},
   "outputs": [
    {
     "data": {
      "image/svg+xml": [
       "<?xml version=\"1.0\" encoding=\"utf-8\"?>\n",
       "<svg xmlns=\"http://www.w3.org/2000/svg\" xmlns:xlink=\"http://www.w3.org/1999/xlink\" width=\"600\" height=\"400\" viewBox=\"0 0 2400 1600\">\n",
       "<defs>\n",
       "  <clipPath id=\"clip5000\">\n",
       "    <rect x=\"0\" y=\"0\" width=\"2000\" height=\"2000\"/>\n",
       "  </clipPath>\n",
       "</defs>\n",
       "<defs>\n",
       "  <clipPath id=\"clip5001\">\n",
       "    <rect x=\"0\" y=\"0\" width=\"2400\" height=\"1600\"/>\n",
       "  </clipPath>\n",
       "</defs>\n",
       "<polygon clip-path=\"url(#clip5001)\" points=\"\n",
       "0,1600 2400,1600 2400,0 0,0 \n",
       "  \" fill=\"#ffffff\" fill-opacity=\"1\"/>\n",
       "<defs>\n",
       "  <clipPath id=\"clip5002\">\n",
       "    <rect x=\"480\" y=\"0\" width=\"1681\" height=\"1600\"/>\n",
       "  </clipPath>\n",
       "</defs>\n",
       "<polygon clip-path=\"url(#clip5001)\" points=\"\n",
       "148.013,1503.47 2321.26,1503.47 2321.26,47.2441 148.013,47.2441 \n",
       "  \" fill=\"#ffffff\" fill-opacity=\"1\"/>\n",
       "<defs>\n",
       "  <clipPath id=\"clip5003\">\n",
       "    <rect x=\"148\" y=\"47\" width=\"2174\" height=\"1457\"/>\n",
       "  </clipPath>\n",
       "</defs>\n",
       "<polyline clip-path=\"url(#clip5003)\" style=\"stroke:#000000; stroke-width:2; stroke-opacity:0.1; fill:none\" points=\"\n",
       "  267.545,1503.47 267.545,47.2441 \n",
       "  \"/>\n",
       "<polyline clip-path=\"url(#clip5003)\" style=\"stroke:#000000; stroke-width:2; stroke-opacity:0.1; fill:none\" points=\"\n",
       "  739.297,1503.47 739.297,47.2441 \n",
       "  \"/>\n",
       "<polyline clip-path=\"url(#clip5003)\" style=\"stroke:#000000; stroke-width:2; stroke-opacity:0.1; fill:none\" points=\"\n",
       "  1211.05,1503.47 1211.05,47.2441 \n",
       "  \"/>\n",
       "<polyline clip-path=\"url(#clip5003)\" style=\"stroke:#000000; stroke-width:2; stroke-opacity:0.1; fill:none\" points=\"\n",
       "  1682.8,1503.47 1682.8,47.2441 \n",
       "  \"/>\n",
       "<polyline clip-path=\"url(#clip5003)\" style=\"stroke:#000000; stroke-width:2; stroke-opacity:0.1; fill:none\" points=\"\n",
       "  2154.55,1503.47 2154.55,47.2441 \n",
       "  \"/>\n",
       "<polyline clip-path=\"url(#clip5003)\" style=\"stroke:#000000; stroke-width:2; stroke-opacity:0.1; fill:none\" points=\"\n",
       "  148.013,1462.26 2321.26,1462.26 \n",
       "  \"/>\n",
       "<polyline clip-path=\"url(#clip5003)\" style=\"stroke:#000000; stroke-width:2; stroke-opacity:0.1; fill:none\" points=\"\n",
       "  148.013,1045.96 2321.26,1045.96 \n",
       "  \"/>\n",
       "<polyline clip-path=\"url(#clip5003)\" style=\"stroke:#000000; stroke-width:2; stroke-opacity:0.1; fill:none\" points=\"\n",
       "  148.013,629.653 2321.26,629.653 \n",
       "  \"/>\n",
       "<polyline clip-path=\"url(#clip5003)\" style=\"stroke:#000000; stroke-width:2; stroke-opacity:0.1; fill:none\" points=\"\n",
       "  148.013,213.349 2321.26,213.349 \n",
       "  \"/>\n",
       "<polyline clip-path=\"url(#clip5001)\" style=\"stroke:#000000; stroke-width:4; stroke-opacity:1; fill:none\" points=\"\n",
       "  148.013,1503.47 2321.26,1503.47 \n",
       "  \"/>\n",
       "<polyline clip-path=\"url(#clip5001)\" style=\"stroke:#000000; stroke-width:4; stroke-opacity:1; fill:none\" points=\"\n",
       "  148.013,1503.47 148.013,47.2441 \n",
       "  \"/>\n",
       "<polyline clip-path=\"url(#clip5001)\" style=\"stroke:#000000; stroke-width:4; stroke-opacity:1; fill:none\" points=\"\n",
       "  267.545,1503.47 267.545,1481.63 \n",
       "  \"/>\n",
       "<polyline clip-path=\"url(#clip5001)\" style=\"stroke:#000000; stroke-width:4; stroke-opacity:1; fill:none\" points=\"\n",
       "  739.297,1503.47 739.297,1481.63 \n",
       "  \"/>\n",
       "<polyline clip-path=\"url(#clip5001)\" style=\"stroke:#000000; stroke-width:4; stroke-opacity:1; fill:none\" points=\"\n",
       "  1211.05,1503.47 1211.05,1481.63 \n",
       "  \"/>\n",
       "<polyline clip-path=\"url(#clip5001)\" style=\"stroke:#000000; stroke-width:4; stroke-opacity:1; fill:none\" points=\"\n",
       "  1682.8,1503.47 1682.8,1481.63 \n",
       "  \"/>\n",
       "<polyline clip-path=\"url(#clip5001)\" style=\"stroke:#000000; stroke-width:4; stroke-opacity:1; fill:none\" points=\"\n",
       "  2154.55,1503.47 2154.55,1481.63 \n",
       "  \"/>\n",
       "<polyline clip-path=\"url(#clip5001)\" style=\"stroke:#000000; stroke-width:4; stroke-opacity:1; fill:none\" points=\"\n",
       "  148.013,1462.26 180.612,1462.26 \n",
       "  \"/>\n",
       "<polyline clip-path=\"url(#clip5001)\" style=\"stroke:#000000; stroke-width:4; stroke-opacity:1; fill:none\" points=\"\n",
       "  148.013,1045.96 180.612,1045.96 \n",
       "  \"/>\n",
       "<polyline clip-path=\"url(#clip5001)\" style=\"stroke:#000000; stroke-width:4; stroke-opacity:1; fill:none\" points=\"\n",
       "  148.013,629.653 180.612,629.653 \n",
       "  \"/>\n",
       "<polyline clip-path=\"url(#clip5001)\" style=\"stroke:#000000; stroke-width:4; stroke-opacity:1; fill:none\" points=\"\n",
       "  148.013,213.349 180.612,213.349 \n",
       "  \"/>\n",
       "<g clip-path=\"url(#clip5001)\">\n",
       "<text style=\"fill:#000000; fill-opacity:1; font-family:Arial,Helvetica Neue,Helvetica,sans-serif; font-size:48; text-anchor:middle;\" transform=\"rotate(0, 267.545, 1557.47)\" x=\"267.545\" y=\"1557.47\">0</text>\n",
       "</g>\n",
       "<g clip-path=\"url(#clip5001)\">\n",
       "<text style=\"fill:#000000; fill-opacity:1; font-family:Arial,Helvetica Neue,Helvetica,sans-serif; font-size:48; text-anchor:middle;\" transform=\"rotate(0, 739.297, 1557.47)\" x=\"739.297\" y=\"1557.47\">50</text>\n",
       "</g>\n",
       "<g clip-path=\"url(#clip5001)\">\n",
       "<text style=\"fill:#000000; fill-opacity:1; font-family:Arial,Helvetica Neue,Helvetica,sans-serif; font-size:48; text-anchor:middle;\" transform=\"rotate(0, 1211.05, 1557.47)\" x=\"1211.05\" y=\"1557.47\">100</text>\n",
       "</g>\n",
       "<g clip-path=\"url(#clip5001)\">\n",
       "<text style=\"fill:#000000; fill-opacity:1; font-family:Arial,Helvetica Neue,Helvetica,sans-serif; font-size:48; text-anchor:middle;\" transform=\"rotate(0, 1682.8, 1557.47)\" x=\"1682.8\" y=\"1557.47\">150</text>\n",
       "</g>\n",
       "<g clip-path=\"url(#clip5001)\">\n",
       "<text style=\"fill:#000000; fill-opacity:1; font-family:Arial,Helvetica Neue,Helvetica,sans-serif; font-size:48; text-anchor:middle;\" transform=\"rotate(0, 2154.55, 1557.47)\" x=\"2154.55\" y=\"1557.47\">200</text>\n",
       "</g>\n",
       "<g clip-path=\"url(#clip5001)\">\n",
       "<text style=\"fill:#000000; fill-opacity:1; font-family:Arial,Helvetica Neue,Helvetica,sans-serif; font-size:48; text-anchor:end;\" transform=\"rotate(0, 124.013, 1479.76)\" x=\"124.013\" y=\"1479.76\">0</text>\n",
       "</g>\n",
       "<g clip-path=\"url(#clip5001)\">\n",
       "<text style=\"fill:#000000; fill-opacity:1; font-family:Arial,Helvetica Neue,Helvetica,sans-serif; font-size:48; text-anchor:end;\" transform=\"rotate(0, 124.013, 1063.46)\" x=\"124.013\" y=\"1063.46\">10</text>\n",
       "</g>\n",
       "<g clip-path=\"url(#clip5001)\">\n",
       "<text style=\"fill:#000000; fill-opacity:1; font-family:Arial,Helvetica Neue,Helvetica,sans-serif; font-size:48; text-anchor:end;\" transform=\"rotate(0, 124.013, 647.153)\" x=\"124.013\" y=\"647.153\">20</text>\n",
       "</g>\n",
       "<g clip-path=\"url(#clip5001)\">\n",
       "<text style=\"fill:#000000; fill-opacity:1; font-family:Arial,Helvetica Neue,Helvetica,sans-serif; font-size:48; text-anchor:end;\" transform=\"rotate(0, 124.013, 230.849)\" x=\"124.013\" y=\"230.849\">30</text>\n",
       "</g>\n",
       "<polygon clip-path=\"url(#clip5003)\" points=\"\n",
       "267.545,1420.63 267.545,1462.26 314.72,1462.26 314.72,1420.63 267.545,1420.63 267.545,1420.63 \n",
       "  \" fill=\"#009af9\" fill-opacity=\"1\"/>\n",
       "<polyline clip-path=\"url(#clip5003)\" style=\"stroke:#000000; stroke-width:4; stroke-opacity:1; fill:none\" points=\"\n",
       "  267.545,1420.63 267.545,1462.26 314.72,1462.26 314.72,1420.63 267.545,1420.63 \n",
       "  \"/>\n",
       "<polygon clip-path=\"url(#clip5003)\" points=\"\n",
       "314.72,1379 314.72,1462.26 361.896,1462.26 361.896,1379 314.72,1379 314.72,1379 \n",
       "  \" fill=\"#009af9\" fill-opacity=\"1\"/>\n",
       "<polyline clip-path=\"url(#clip5003)\" style=\"stroke:#000000; stroke-width:4; stroke-opacity:1; fill:none\" points=\"\n",
       "  314.72,1379 314.72,1462.26 361.896,1462.26 361.896,1379 314.72,1379 \n",
       "  \"/>\n",
       "<polygon clip-path=\"url(#clip5003)\" points=\"\n",
       "361.896,1004.33 361.896,1462.26 409.071,1462.26 409.071,1004.33 361.896,1004.33 361.896,1004.33 \n",
       "  \" fill=\"#009af9\" fill-opacity=\"1\"/>\n",
       "<polyline clip-path=\"url(#clip5003)\" style=\"stroke:#000000; stroke-width:4; stroke-opacity:1; fill:none\" points=\"\n",
       "  361.896,1004.33 361.896,1462.26 409.071,1462.26 409.071,1004.33 361.896,1004.33 \n",
       "  \"/>\n",
       "<polygon clip-path=\"url(#clip5003)\" points=\"\n",
       "409.071,1129.22 409.071,1462.26 456.246,1462.26 456.246,1129.22 409.071,1129.22 409.071,1129.22 \n",
       "  \" fill=\"#009af9\" fill-opacity=\"1\"/>\n",
       "<polyline clip-path=\"url(#clip5003)\" style=\"stroke:#000000; stroke-width:4; stroke-opacity:1; fill:none\" points=\"\n",
       "  409.071,1129.22 409.071,1462.26 456.246,1462.26 456.246,1129.22 409.071,1129.22 \n",
       "  \"/>\n",
       "<polygon clip-path=\"url(#clip5003)\" points=\"\n",
       "456.246,1254.11 456.246,1462.26 503.421,1462.26 503.421,1254.11 456.246,1254.11 456.246,1254.11 \n",
       "  \" fill=\"#009af9\" fill-opacity=\"1\"/>\n",
       "<polyline clip-path=\"url(#clip5003)\" style=\"stroke:#000000; stroke-width:4; stroke-opacity:1; fill:none\" points=\"\n",
       "  456.246,1254.11 456.246,1462.26 503.421,1462.26 503.421,1254.11 456.246,1254.11 \n",
       "  \"/>\n",
       "<polygon clip-path=\"url(#clip5003)\" points=\"\n",
       "503.421,1337.37 503.421,1462.26 550.596,1462.26 550.596,1337.37 503.421,1337.37 503.421,1337.37 \n",
       "  \" fill=\"#009af9\" fill-opacity=\"1\"/>\n",
       "<polyline clip-path=\"url(#clip5003)\" style=\"stroke:#000000; stroke-width:4; stroke-opacity:1; fill:none\" points=\"\n",
       "  503.421,1337.37 503.421,1462.26 550.596,1462.26 550.596,1337.37 503.421,1337.37 \n",
       "  \"/>\n",
       "<polygon clip-path=\"url(#clip5003)\" points=\"\n",
       "550.596,1254.11 550.596,1462.26 597.772,1462.26 597.772,1254.11 550.596,1254.11 550.596,1254.11 \n",
       "  \" fill=\"#009af9\" fill-opacity=\"1\"/>\n",
       "<polyline clip-path=\"url(#clip5003)\" style=\"stroke:#000000; stroke-width:4; stroke-opacity:1; fill:none\" points=\"\n",
       "  550.596,1254.11 550.596,1462.26 597.772,1462.26 597.772,1254.11 550.596,1254.11 \n",
       "  \"/>\n",
       "<polygon clip-path=\"url(#clip5003)\" points=\"\n",
       "597.772,1420.63 597.772,1462.26 644.947,1462.26 644.947,1420.63 597.772,1420.63 597.772,1420.63 \n",
       "  \" fill=\"#009af9\" fill-opacity=\"1\"/>\n",
       "<polyline clip-path=\"url(#clip5003)\" style=\"stroke:#000000; stroke-width:4; stroke-opacity:1; fill:none\" points=\"\n",
       "  597.772,1420.63 597.772,1462.26 644.947,1462.26 644.947,1420.63 597.772,1420.63 \n",
       "  \"/>\n",
       "<polygon clip-path=\"url(#clip5003)\" points=\"\n",
       "644.947,1420.63 644.947,1462.26 692.122,1462.26 692.122,1420.63 644.947,1420.63 644.947,1420.63 \n",
       "  \" fill=\"#009af9\" fill-opacity=\"1\"/>\n",
       "<polyline clip-path=\"url(#clip5003)\" style=\"stroke:#000000; stroke-width:4; stroke-opacity:1; fill:none\" points=\"\n",
       "  644.947,1420.63 644.947,1462.26 692.122,1462.26 692.122,1420.63 644.947,1420.63 \n",
       "  \"/>\n",
       "<polygon clip-path=\"url(#clip5003)\" points=\"\n",
       "692.122,1379 692.122,1462.26 739.297,1462.26 739.297,1379 692.122,1379 692.122,1379 \n",
       "  \" fill=\"#009af9\" fill-opacity=\"1\"/>\n",
       "<polyline clip-path=\"url(#clip5003)\" style=\"stroke:#000000; stroke-width:4; stroke-opacity:1; fill:none\" points=\"\n",
       "  692.122,1379 692.122,1462.26 739.297,1462.26 739.297,1379 692.122,1379 \n",
       "  \"/>\n",
       "<polygon clip-path=\"url(#clip5003)\" points=\"\n",
       "739.297,1379 739.297,1462.26 786.472,1462.26 786.472,1379 739.297,1379 739.297,1379 \n",
       "  \" fill=\"#009af9\" fill-opacity=\"1\"/>\n",
       "<polyline clip-path=\"url(#clip5003)\" style=\"stroke:#000000; stroke-width:4; stroke-opacity:1; fill:none\" points=\"\n",
       "  739.297,1379 739.297,1462.26 786.472,1462.26 786.472,1379 739.297,1379 \n",
       "  \"/>\n",
       "<polygon clip-path=\"url(#clip5003)\" points=\"\n",
       "786.472,1295.74 786.472,1462.26 833.647,1462.26 833.647,1295.74 786.472,1295.74 786.472,1295.74 \n",
       "  \" fill=\"#009af9\" fill-opacity=\"1\"/>\n",
       "<polyline clip-path=\"url(#clip5003)\" style=\"stroke:#000000; stroke-width:4; stroke-opacity:1; fill:none\" points=\"\n",
       "  786.472,1295.74 786.472,1462.26 833.647,1462.26 833.647,1295.74 786.472,1295.74 \n",
       "  \"/>\n",
       "<polygon clip-path=\"url(#clip5003)\" points=\"\n",
       "833.647,1379 833.647,1462.26 880.823,1462.26 880.823,1379 833.647,1379 833.647,1379 \n",
       "  \" fill=\"#009af9\" fill-opacity=\"1\"/>\n",
       "<polyline clip-path=\"url(#clip5003)\" style=\"stroke:#000000; stroke-width:4; stroke-opacity:1; fill:none\" points=\"\n",
       "  833.647,1379 833.647,1462.26 880.823,1462.26 880.823,1379 833.647,1379 \n",
       "  \"/>\n",
       "<polygon clip-path=\"url(#clip5003)\" points=\"\n",
       "880.823,1420.63 880.823,1462.26 927.998,1462.26 927.998,1420.63 880.823,1420.63 880.823,1420.63 \n",
       "  \" fill=\"#009af9\" fill-opacity=\"1\"/>\n",
       "<polyline clip-path=\"url(#clip5003)\" style=\"stroke:#000000; stroke-width:4; stroke-opacity:1; fill:none\" points=\"\n",
       "  880.823,1420.63 880.823,1462.26 927.998,1462.26 927.998,1420.63 880.823,1420.63 \n",
       "  \"/>\n",
       "<polygon clip-path=\"url(#clip5003)\" points=\"\n",
       "927.998,1420.63 927.998,1462.26 975.173,1462.26 975.173,1420.63 927.998,1420.63 927.998,1420.63 \n",
       "  \" fill=\"#009af9\" fill-opacity=\"1\"/>\n",
       "<polyline clip-path=\"url(#clip5003)\" style=\"stroke:#000000; stroke-width:4; stroke-opacity:1; fill:none\" points=\"\n",
       "  927.998,1420.63 927.998,1462.26 975.173,1462.26 975.173,1420.63 927.998,1420.63 \n",
       "  \"/>\n",
       "<polygon clip-path=\"url(#clip5003)\" points=\"\n",
       "975.173,1462.26 975.173,1462.26 1022.35,1462.26 1022.35,1462.26 975.173,1462.26 975.173,1462.26 \n",
       "  \" fill=\"#009af9\" fill-opacity=\"1\"/>\n",
       "<polyline clip-path=\"url(#clip5003)\" style=\"stroke:#000000; stroke-width:4; stroke-opacity:1; fill:none\" points=\"\n",
       "  975.173,1462.26 975.173,1462.26 1022.35,1462.26 975.173,1462.26 \n",
       "  \"/>\n",
       "<polygon clip-path=\"url(#clip5003)\" points=\"\n",
       "1022.35,1420.63 1022.35,1462.26 1069.52,1462.26 1069.52,1420.63 1022.35,1420.63 1022.35,1420.63 \n",
       "  \" fill=\"#009af9\" fill-opacity=\"1\"/>\n",
       "<polyline clip-path=\"url(#clip5003)\" style=\"stroke:#000000; stroke-width:4; stroke-opacity:1; fill:none\" points=\"\n",
       "  1022.35,1420.63 1022.35,1462.26 1069.52,1462.26 1069.52,1420.63 1022.35,1420.63 \n",
       "  \"/>\n",
       "<polygon clip-path=\"url(#clip5003)\" points=\"\n",
       "1069.52,1295.74 1069.52,1462.26 1116.7,1462.26 1116.7,1295.74 1069.52,1295.74 1069.52,1295.74 \n",
       "  \" fill=\"#009af9\" fill-opacity=\"1\"/>\n",
       "<polyline clip-path=\"url(#clip5003)\" style=\"stroke:#000000; stroke-width:4; stroke-opacity:1; fill:none\" points=\"\n",
       "  1069.52,1295.74 1069.52,1462.26 1116.7,1462.26 1116.7,1295.74 1069.52,1295.74 \n",
       "  \"/>\n",
       "<polygon clip-path=\"url(#clip5003)\" points=\"\n",
       "1116.7,1420.63 1116.7,1462.26 1163.87,1462.26 1163.87,1420.63 1116.7,1420.63 1116.7,1420.63 \n",
       "  \" fill=\"#009af9\" fill-opacity=\"1\"/>\n",
       "<polyline clip-path=\"url(#clip5003)\" style=\"stroke:#000000; stroke-width:4; stroke-opacity:1; fill:none\" points=\"\n",
       "  1116.7,1420.63 1116.7,1462.26 1163.87,1462.26 1163.87,1420.63 1116.7,1420.63 \n",
       "  \"/>\n",
       "<polygon clip-path=\"url(#clip5003)\" points=\"\n",
       "1163.87,1462.26 1163.87,1462.26 1211.05,1462.26 1211.05,1462.26 1163.87,1462.26 1163.87,1462.26 \n",
       "  \" fill=\"#009af9\" fill-opacity=\"1\"/>\n",
       "<polyline clip-path=\"url(#clip5003)\" style=\"stroke:#000000; stroke-width:4; stroke-opacity:1; fill:none\" points=\"\n",
       "  1163.87,1462.26 1163.87,1462.26 1211.05,1462.26 1163.87,1462.26 \n",
       "  \"/>\n",
       "<polygon clip-path=\"url(#clip5003)\" points=\"\n",
       "1211.05,1379 1211.05,1462.26 1258.22,1462.26 1258.22,1379 1211.05,1379 1211.05,1379 \n",
       "  \" fill=\"#009af9\" fill-opacity=\"1\"/>\n",
       "<polyline clip-path=\"url(#clip5003)\" style=\"stroke:#000000; stroke-width:4; stroke-opacity:1; fill:none\" points=\"\n",
       "  1211.05,1379 1211.05,1462.26 1258.22,1462.26 1258.22,1379 1211.05,1379 \n",
       "  \"/>\n",
       "<polygon clip-path=\"url(#clip5003)\" points=\"\n",
       "1258.22,1379 1258.22,1462.26 1305.4,1462.26 1305.4,1379 1258.22,1379 1258.22,1379 \n",
       "  \" fill=\"#009af9\" fill-opacity=\"1\"/>\n",
       "<polyline clip-path=\"url(#clip5003)\" style=\"stroke:#000000; stroke-width:4; stroke-opacity:1; fill:none\" points=\"\n",
       "  1258.22,1379 1258.22,1462.26 1305.4,1462.26 1305.4,1379 1258.22,1379 \n",
       "  \"/>\n",
       "<polygon clip-path=\"url(#clip5003)\" points=\"\n",
       "1305.4,1462.26 1305.4,1462.26 1352.57,1462.26 1352.57,1462.26 1305.4,1462.26 1305.4,1462.26 \n",
       "  \" fill=\"#009af9\" fill-opacity=\"1\"/>\n",
       "<polyline clip-path=\"url(#clip5003)\" style=\"stroke:#000000; stroke-width:4; stroke-opacity:1; fill:none\" points=\"\n",
       "  1305.4,1462.26 1305.4,1462.26 1352.57,1462.26 1305.4,1462.26 \n",
       "  \"/>\n",
       "<polygon clip-path=\"url(#clip5003)\" points=\"\n",
       "1352.57,1462.26 1352.57,1462.26 1399.75,1462.26 1399.75,1462.26 1352.57,1462.26 1352.57,1462.26 \n",
       "  \" fill=\"#009af9\" fill-opacity=\"1\"/>\n",
       "<polyline clip-path=\"url(#clip5003)\" style=\"stroke:#000000; stroke-width:4; stroke-opacity:1; fill:none\" points=\"\n",
       "  1352.57,1462.26 1352.57,1462.26 1399.75,1462.26 1352.57,1462.26 \n",
       "  \"/>\n",
       "<polygon clip-path=\"url(#clip5003)\" points=\"\n",
       "1399.75,1420.63 1399.75,1462.26 1446.92,1462.26 1446.92,1420.63 1399.75,1420.63 1399.75,1420.63 \n",
       "  \" fill=\"#009af9\" fill-opacity=\"1\"/>\n",
       "<polyline clip-path=\"url(#clip5003)\" style=\"stroke:#000000; stroke-width:4; stroke-opacity:1; fill:none\" points=\"\n",
       "  1399.75,1420.63 1399.75,1462.26 1446.92,1462.26 1446.92,1420.63 1399.75,1420.63 \n",
       "  \"/>\n",
       "<polygon clip-path=\"url(#clip5003)\" points=\"\n",
       "1446.92,1462.26 1446.92,1462.26 1494.1,1462.26 1494.1,1462.26 1446.92,1462.26 1446.92,1462.26 \n",
       "  \" fill=\"#009af9\" fill-opacity=\"1\"/>\n",
       "<polyline clip-path=\"url(#clip5003)\" style=\"stroke:#000000; stroke-width:4; stroke-opacity:1; fill:none\" points=\"\n",
       "  1446.92,1462.26 1446.92,1462.26 1494.1,1462.26 1446.92,1462.26 \n",
       "  \"/>\n",
       "<polygon clip-path=\"url(#clip5003)\" points=\"\n",
       "1494.1,1462.26 1494.1,1462.26 1541.27,1462.26 1541.27,1462.26 1494.1,1462.26 1494.1,1462.26 \n",
       "  \" fill=\"#009af9\" fill-opacity=\"1\"/>\n",
       "<polyline clip-path=\"url(#clip5003)\" style=\"stroke:#000000; stroke-width:4; stroke-opacity:1; fill:none\" points=\"\n",
       "  1494.1,1462.26 1494.1,1462.26 1541.27,1462.26 1494.1,1462.26 \n",
       "  \"/>\n",
       "<polygon clip-path=\"url(#clip5003)\" points=\"\n",
       "1541.27,1379 1541.27,1462.26 1588.45,1462.26 1588.45,1379 1541.27,1379 1541.27,1379 \n",
       "  \" fill=\"#009af9\" fill-opacity=\"1\"/>\n",
       "<polyline clip-path=\"url(#clip5003)\" style=\"stroke:#000000; stroke-width:4; stroke-opacity:1; fill:none\" points=\"\n",
       "  1541.27,1379 1541.27,1462.26 1588.45,1462.26 1588.45,1379 1541.27,1379 \n",
       "  \"/>\n",
       "<polygon clip-path=\"url(#clip5003)\" points=\"\n",
       "1588.45,1462.26 1588.45,1462.26 1635.63,1462.26 1635.63,1462.26 1588.45,1462.26 1588.45,1462.26 \n",
       "  \" fill=\"#009af9\" fill-opacity=\"1\"/>\n",
       "<polyline clip-path=\"url(#clip5003)\" style=\"stroke:#000000; stroke-width:4; stroke-opacity:1; fill:none\" points=\"\n",
       "  1588.45,1462.26 1588.45,1462.26 1635.63,1462.26 1588.45,1462.26 \n",
       "  \"/>\n",
       "<polygon clip-path=\"url(#clip5003)\" points=\"\n",
       "1635.63,1420.63 1635.63,1462.26 1682.8,1462.26 1682.8,1420.63 1635.63,1420.63 1635.63,1420.63 \n",
       "  \" fill=\"#009af9\" fill-opacity=\"1\"/>\n",
       "<polyline clip-path=\"url(#clip5003)\" style=\"stroke:#000000; stroke-width:4; stroke-opacity:1; fill:none\" points=\"\n",
       "  1635.63,1420.63 1635.63,1462.26 1682.8,1462.26 1682.8,1420.63 1635.63,1420.63 \n",
       "  \"/>\n",
       "<polygon clip-path=\"url(#clip5003)\" points=\"\n",
       "1682.8,1462.26 1682.8,1462.26 1729.98,1462.26 1729.98,1462.26 1682.8,1462.26 1682.8,1462.26 \n",
       "  \" fill=\"#009af9\" fill-opacity=\"1\"/>\n",
       "<polyline clip-path=\"url(#clip5003)\" style=\"stroke:#000000; stroke-width:4; stroke-opacity:1; fill:none\" points=\"\n",
       "  1682.8,1462.26 1682.8,1462.26 1729.98,1462.26 1682.8,1462.26 \n",
       "  \"/>\n",
       "<polygon clip-path=\"url(#clip5003)\" points=\"\n",
       "1729.98,1462.26 1729.98,1462.26 1777.15,1462.26 1777.15,1462.26 1729.98,1462.26 1729.98,1462.26 \n",
       "  \" fill=\"#009af9\" fill-opacity=\"1\"/>\n",
       "<polyline clip-path=\"url(#clip5003)\" style=\"stroke:#000000; stroke-width:4; stroke-opacity:1; fill:none\" points=\"\n",
       "  1729.98,1462.26 1729.98,1462.26 1777.15,1462.26 1729.98,1462.26 \n",
       "  \"/>\n",
       "<polygon clip-path=\"url(#clip5003)\" points=\"\n",
       "1777.15,1462.26 1777.15,1462.26 1824.33,1462.26 1824.33,1462.26 1777.15,1462.26 1777.15,1462.26 \n",
       "  \" fill=\"#009af9\" fill-opacity=\"1\"/>\n",
       "<polyline clip-path=\"url(#clip5003)\" style=\"stroke:#000000; stroke-width:4; stroke-opacity:1; fill:none\" points=\"\n",
       "  1777.15,1462.26 1777.15,1462.26 1824.33,1462.26 1777.15,1462.26 \n",
       "  \"/>\n",
       "<polygon clip-path=\"url(#clip5003)\" points=\"\n",
       "1824.33,1462.26 1824.33,1462.26 1871.5,1462.26 1871.5,1462.26 1824.33,1462.26 1824.33,1462.26 \n",
       "  \" fill=\"#009af9\" fill-opacity=\"1\"/>\n",
       "<polyline clip-path=\"url(#clip5003)\" style=\"stroke:#000000; stroke-width:4; stroke-opacity:1; fill:none\" points=\"\n",
       "  1824.33,1462.26 1824.33,1462.26 1871.5,1462.26 1824.33,1462.26 \n",
       "  \"/>\n",
       "<polygon clip-path=\"url(#clip5003)\" points=\"\n",
       "1871.5,1462.26 1871.5,1462.26 1918.68,1462.26 1918.68,1462.26 1871.5,1462.26 1871.5,1462.26 \n",
       "  \" fill=\"#009af9\" fill-opacity=\"1\"/>\n",
       "<polyline clip-path=\"url(#clip5003)\" style=\"stroke:#000000; stroke-width:4; stroke-opacity:1; fill:none\" points=\"\n",
       "  1871.5,1462.26 1871.5,1462.26 1918.68,1462.26 1871.5,1462.26 \n",
       "  \"/>\n",
       "<polygon clip-path=\"url(#clip5003)\" points=\"\n",
       "1918.68,1462.26 1918.68,1462.26 1965.85,1462.26 1965.85,1462.26 1918.68,1462.26 1918.68,1462.26 \n",
       "  \" fill=\"#009af9\" fill-opacity=\"1\"/>\n",
       "<polyline clip-path=\"url(#clip5003)\" style=\"stroke:#000000; stroke-width:4; stroke-opacity:1; fill:none\" points=\"\n",
       "  1918.68,1462.26 1918.68,1462.26 1965.85,1462.26 1918.68,1462.26 \n",
       "  \"/>\n",
       "<polygon clip-path=\"url(#clip5003)\" points=\"\n",
       "1965.85,1420.63 1965.85,1462.26 2013.03,1462.26 2013.03,1420.63 1965.85,1420.63 1965.85,1420.63 \n",
       "  \" fill=\"#009af9\" fill-opacity=\"1\"/>\n",
       "<polyline clip-path=\"url(#clip5003)\" style=\"stroke:#000000; stroke-width:4; stroke-opacity:1; fill:none\" points=\"\n",
       "  1965.85,1420.63 1965.85,1462.26 2013.03,1462.26 2013.03,1420.63 1965.85,1420.63 \n",
       "  \"/>\n",
       "<polygon clip-path=\"url(#clip5003)\" points=\"\n",
       "2013.03,1420.63 2013.03,1462.26 2060.2,1462.26 2060.2,1420.63 2013.03,1420.63 2013.03,1420.63 \n",
       "  \" fill=\"#009af9\" fill-opacity=\"1\"/>\n",
       "<polyline clip-path=\"url(#clip5003)\" style=\"stroke:#000000; stroke-width:4; stroke-opacity:1; fill:none\" points=\"\n",
       "  2013.03,1420.63 2013.03,1462.26 2060.2,1462.26 2060.2,1420.63 2013.03,1420.63 \n",
       "  \"/>\n",
       "<polygon clip-path=\"url(#clip5003)\" points=\"\n",
       "2060.2,1420.63 2060.2,1462.26 2107.38,1462.26 2107.38,1420.63 2060.2,1420.63 2060.2,1420.63 \n",
       "  \" fill=\"#009af9\" fill-opacity=\"1\"/>\n",
       "<polyline clip-path=\"url(#clip5003)\" style=\"stroke:#000000; stroke-width:4; stroke-opacity:1; fill:none\" points=\"\n",
       "  2060.2,1420.63 2060.2,1462.26 2107.38,1462.26 2107.38,1420.63 2060.2,1420.63 \n",
       "  \"/>\n",
       "<polygon clip-path=\"url(#clip5003)\" points=\"\n",
       "2107.38,1420.63 2107.38,1462.26 2154.55,1462.26 2154.55,1420.63 2107.38,1420.63 2107.38,1420.63 \n",
       "  \" fill=\"#009af9\" fill-opacity=\"1\"/>\n",
       "<polyline clip-path=\"url(#clip5003)\" style=\"stroke:#000000; stroke-width:4; stroke-opacity:1; fill:none\" points=\"\n",
       "  2107.38,1420.63 2107.38,1462.26 2154.55,1462.26 2154.55,1420.63 2107.38,1420.63 \n",
       "  \"/>\n",
       "<polygon clip-path=\"url(#clip5003)\" points=\"\n",
       "2154.55,88.4582 2154.55,1462.26 2201.73,1462.26 2201.73,88.4582 2154.55,88.4582 2154.55,88.4582 \n",
       "  \" fill=\"#009af9\" fill-opacity=\"1\"/>\n",
       "<polyline clip-path=\"url(#clip5003)\" style=\"stroke:#000000; stroke-width:4; stroke-opacity:1; fill:none\" points=\"\n",
       "  2154.55,88.4582 2154.55,1462.26 2201.73,1462.26 2201.73,88.4582 2154.55,88.4582 \n",
       "  \"/>\n",
       "<polygon clip-path=\"url(#clip5001)\" points=\"\n",
       "1958.43,251.724 2249.26,251.724 2249.26,130.764 1958.43,130.764 \n",
       "  \" fill=\"#ffffff\" fill-opacity=\"1\"/>\n",
       "<polyline clip-path=\"url(#clip5001)\" style=\"stroke:#000000; stroke-width:4; stroke-opacity:1; fill:none\" points=\"\n",
       "  1958.43,251.724 2249.26,251.724 2249.26,130.764 1958.43,130.764 1958.43,251.724 \n",
       "  \"/>\n",
       "<polygon clip-path=\"url(#clip5001)\" points=\"\n",
       "1982.43,215.436 2126.43,215.436 2126.43,167.052 1982.43,167.052 1982.43,215.436 \n",
       "  \" fill=\"#009af9\" fill-opacity=\"1\"/>\n",
       "<polyline clip-path=\"url(#clip5001)\" style=\"stroke:#000000; stroke-width:4; stroke-opacity:1; fill:none\" points=\"\n",
       "  1982.43,215.436 2126.43,215.436 2126.43,167.052 1982.43,167.052 1982.43,215.436 \n",
       "  \"/>\n",
       "<g clip-path=\"url(#clip5001)\">\n",
       "<text style=\"fill:#000000; fill-opacity:1; font-family:Arial,Helvetica Neue,Helvetica,sans-serif; font-size:48; text-anchor:start;\" transform=\"rotate(0, 2150.43, 208.744)\" x=\"2150.43\" y=\"208.744\">y1</text>\n",
       "</g>\n",
       "</svg>\n"
      ]
     },
     "execution_count": 25,
     "metadata": {},
     "output_type": "execute_result"
    }
   ],
   "source": [
    "n=200; paramsmn=[1.0, .2]; xi=1.0; a=0; #setting xi as a float might be an improvement\n",
    "\n",
    "vals = getsomeTas(walk!, 100, xi, a, n, paramsmn)\n",
    "histogram(vals, nbins=50)"
   ]
  },
  {
   "cell_type": "markdown",
   "metadata": {},
   "source": [
    "2. Plot the sample mean of $T_0$ for $α \\in \\{0.5, 1.0, 1.2\\}$"
   ]
  },
  {
   "cell_type": "code",
   "execution_count": 26,
   "metadata": {},
   "outputs": [
    {
     "data": {
      "image/svg+xml": [
       "<?xml version=\"1.0\" encoding=\"utf-8\"?>\n",
       "<svg xmlns=\"http://www.w3.org/2000/svg\" xmlns:xlink=\"http://www.w3.org/1999/xlink\" width=\"600\" height=\"400\" viewBox=\"0 0 2400 1600\">\n",
       "<defs>\n",
       "  <clipPath id=\"clip5200\">\n",
       "    <rect x=\"0\" y=\"0\" width=\"2000\" height=\"2000\"/>\n",
       "  </clipPath>\n",
       "</defs>\n",
       "<defs>\n",
       "  <clipPath id=\"clip5201\">\n",
       "    <rect x=\"0\" y=\"0\" width=\"2400\" height=\"1600\"/>\n",
       "  </clipPath>\n",
       "</defs>\n",
       "<polygon clip-path=\"url(#clip5201)\" points=\"\n",
       "0,1600 2400,1600 2400,0 0,0 \n",
       "  \" fill=\"#ffffff\" fill-opacity=\"1\"/>\n",
       "<defs>\n",
       "  <clipPath id=\"clip5202\">\n",
       "    <rect x=\"480\" y=\"0\" width=\"1681\" height=\"1600\"/>\n",
       "  </clipPath>\n",
       "</defs>\n",
       "<polygon clip-path=\"url(#clip5201)\" points=\"\n",
       "174.775,1503.47 2321.26,1503.47 2321.26,47.2441 174.775,47.2441 \n",
       "  \" fill=\"#ffffff\" fill-opacity=\"1\"/>\n",
       "<defs>\n",
       "  <clipPath id=\"clip5203\">\n",
       "    <rect x=\"174\" y=\"47\" width=\"2147\" height=\"1457\"/>\n",
       "  </clipPath>\n",
       "</defs>\n",
       "<polyline clip-path=\"url(#clip5203)\" style=\"stroke:#000000; stroke-width:2; stroke-opacity:0.1; fill:none\" points=\"\n",
       "  235.525,1503.47 235.525,47.2441 \n",
       "  \"/>\n",
       "<polyline clip-path=\"url(#clip5203)\" style=\"stroke:#000000; stroke-width:2; stroke-opacity:0.1; fill:none\" points=\"\n",
       "  741.771,1503.47 741.771,47.2441 \n",
       "  \"/>\n",
       "<polyline clip-path=\"url(#clip5203)\" style=\"stroke:#000000; stroke-width:2; stroke-opacity:0.1; fill:none\" points=\"\n",
       "  1248.02,1503.47 1248.02,47.2441 \n",
       "  \"/>\n",
       "<polyline clip-path=\"url(#clip5203)\" style=\"stroke:#000000; stroke-width:2; stroke-opacity:0.1; fill:none\" points=\"\n",
       "  1754.26,1503.47 1754.26,47.2441 \n",
       "  \"/>\n",
       "<polyline clip-path=\"url(#clip5203)\" style=\"stroke:#000000; stroke-width:2; stroke-opacity:0.1; fill:none\" points=\"\n",
       "  2260.51,1503.47 2260.51,47.2441 \n",
       "  \"/>\n",
       "<polyline clip-path=\"url(#clip5203)\" style=\"stroke:#000000; stroke-width:2; stroke-opacity:0.1; fill:none\" points=\"\n",
       "  174.775,1179.41 2321.26,1179.41 \n",
       "  \"/>\n",
       "<polyline clip-path=\"url(#clip5203)\" style=\"stroke:#000000; stroke-width:2; stroke-opacity:0.1; fill:none\" points=\"\n",
       "  174.775,815.761 2321.26,815.761 \n",
       "  \"/>\n",
       "<polyline clip-path=\"url(#clip5203)\" style=\"stroke:#000000; stroke-width:2; stroke-opacity:0.1; fill:none\" points=\"\n",
       "  174.775,452.11 2321.26,452.11 \n",
       "  \"/>\n",
       "<polyline clip-path=\"url(#clip5203)\" style=\"stroke:#000000; stroke-width:2; stroke-opacity:0.1; fill:none\" points=\"\n",
       "  174.775,88.4582 2321.26,88.4582 \n",
       "  \"/>\n",
       "<polyline clip-path=\"url(#clip5201)\" style=\"stroke:#000000; stroke-width:4; stroke-opacity:1; fill:none\" points=\"\n",
       "  174.775,1503.47 2321.26,1503.47 \n",
       "  \"/>\n",
       "<polyline clip-path=\"url(#clip5201)\" style=\"stroke:#000000; stroke-width:4; stroke-opacity:1; fill:none\" points=\"\n",
       "  174.775,1503.47 174.775,47.2441 \n",
       "  \"/>\n",
       "<polyline clip-path=\"url(#clip5201)\" style=\"stroke:#000000; stroke-width:4; stroke-opacity:1; fill:none\" points=\"\n",
       "  235.525,1503.47 235.525,1481.63 \n",
       "  \"/>\n",
       "<polyline clip-path=\"url(#clip5201)\" style=\"stroke:#000000; stroke-width:4; stroke-opacity:1; fill:none\" points=\"\n",
       "  741.771,1503.47 741.771,1481.63 \n",
       "  \"/>\n",
       "<polyline clip-path=\"url(#clip5201)\" style=\"stroke:#000000; stroke-width:4; stroke-opacity:1; fill:none\" points=\"\n",
       "  1248.02,1503.47 1248.02,1481.63 \n",
       "  \"/>\n",
       "<polyline clip-path=\"url(#clip5201)\" style=\"stroke:#000000; stroke-width:4; stroke-opacity:1; fill:none\" points=\"\n",
       "  1754.26,1503.47 1754.26,1481.63 \n",
       "  \"/>\n",
       "<polyline clip-path=\"url(#clip5201)\" style=\"stroke:#000000; stroke-width:4; stroke-opacity:1; fill:none\" points=\"\n",
       "  2260.51,1503.47 2260.51,1481.63 \n",
       "  \"/>\n",
       "<polyline clip-path=\"url(#clip5201)\" style=\"stroke:#000000; stroke-width:4; stroke-opacity:1; fill:none\" points=\"\n",
       "  174.775,1179.41 206.972,1179.41 \n",
       "  \"/>\n",
       "<polyline clip-path=\"url(#clip5201)\" style=\"stroke:#000000; stroke-width:4; stroke-opacity:1; fill:none\" points=\"\n",
       "  174.775,815.761 206.972,815.761 \n",
       "  \"/>\n",
       "<polyline clip-path=\"url(#clip5201)\" style=\"stroke:#000000; stroke-width:4; stroke-opacity:1; fill:none\" points=\"\n",
       "  174.775,452.11 206.972,452.11 \n",
       "  \"/>\n",
       "<polyline clip-path=\"url(#clip5201)\" style=\"stroke:#000000; stroke-width:4; stroke-opacity:1; fill:none\" points=\"\n",
       "  174.775,88.4582 206.972,88.4582 \n",
       "  \"/>\n",
       "<g clip-path=\"url(#clip5201)\">\n",
       "<text style=\"fill:#000000; fill-opacity:1; font-family:Arial,Helvetica Neue,Helvetica,sans-serif; font-size:48; text-anchor:middle;\" transform=\"rotate(0, 235.525, 1557.47)\" x=\"235.525\" y=\"1557.47\">0.8</text>\n",
       "</g>\n",
       "<g clip-path=\"url(#clip5201)\">\n",
       "<text style=\"fill:#000000; fill-opacity:1; font-family:Arial,Helvetica Neue,Helvetica,sans-serif; font-size:48; text-anchor:middle;\" transform=\"rotate(0, 741.771, 1557.47)\" x=\"741.771\" y=\"1557.47\">0.9</text>\n",
       "</g>\n",
       "<g clip-path=\"url(#clip5201)\">\n",
       "<text style=\"fill:#000000; fill-opacity:1; font-family:Arial,Helvetica Neue,Helvetica,sans-serif; font-size:48; text-anchor:middle;\" transform=\"rotate(0, 1248.02, 1557.47)\" x=\"1248.02\" y=\"1557.47\">1.0</text>\n",
       "</g>\n",
       "<g clip-path=\"url(#clip5201)\">\n",
       "<text style=\"fill:#000000; fill-opacity:1; font-family:Arial,Helvetica Neue,Helvetica,sans-serif; font-size:48; text-anchor:middle;\" transform=\"rotate(0, 1754.26, 1557.47)\" x=\"1754.26\" y=\"1557.47\">1.1</text>\n",
       "</g>\n",
       "<g clip-path=\"url(#clip5201)\">\n",
       "<text style=\"fill:#000000; fill-opacity:1; font-family:Arial,Helvetica Neue,Helvetica,sans-serif; font-size:48; text-anchor:middle;\" transform=\"rotate(0, 2260.51, 1557.47)\" x=\"2260.51\" y=\"1557.47\">1.2</text>\n",
       "</g>\n",
       "<g clip-path=\"url(#clip5201)\">\n",
       "<text style=\"fill:#000000; fill-opacity:1; font-family:Arial,Helvetica Neue,Helvetica,sans-serif; font-size:48; text-anchor:end;\" transform=\"rotate(0, 150.775, 1196.91)\" x=\"150.775\" y=\"1196.91\">50</text>\n",
       "</g>\n",
       "<g clip-path=\"url(#clip5201)\">\n",
       "<text style=\"fill:#000000; fill-opacity:1; font-family:Arial,Helvetica Neue,Helvetica,sans-serif; font-size:48; text-anchor:end;\" transform=\"rotate(0, 150.775, 833.261)\" x=\"150.775\" y=\"833.261\">100</text>\n",
       "</g>\n",
       "<g clip-path=\"url(#clip5201)\">\n",
       "<text style=\"fill:#000000; fill-opacity:1; font-family:Arial,Helvetica Neue,Helvetica,sans-serif; font-size:48; text-anchor:end;\" transform=\"rotate(0, 150.775, 469.61)\" x=\"150.775\" y=\"469.61\">150</text>\n",
       "</g>\n",
       "<g clip-path=\"url(#clip5201)\">\n",
       "<text style=\"fill:#000000; fill-opacity:1; font-family:Arial,Helvetica Neue,Helvetica,sans-serif; font-size:48; text-anchor:end;\" transform=\"rotate(0, 150.775, 105.958)\" x=\"150.775\" y=\"105.958\">200</text>\n",
       "</g>\n",
       "<polyline clip-path=\"url(#clip5203)\" style=\"stroke:#009af9; stroke-width:4; stroke-opacity:1; fill:none\" points=\"\n",
       "  235.525,1462.26 1248.02,849.653 2260.51,88.4582 \n",
       "  \"/>\n",
       "<polygon clip-path=\"url(#clip5201)\" points=\"\n",
       "1958.43,251.724 2249.26,251.724 2249.26,130.764 1958.43,130.764 \n",
       "  \" fill=\"#ffffff\" fill-opacity=\"1\"/>\n",
       "<polyline clip-path=\"url(#clip5201)\" style=\"stroke:#000000; stroke-width:4; stroke-opacity:1; fill:none\" points=\"\n",
       "  1958.43,251.724 2249.26,251.724 2249.26,130.764 1958.43,130.764 1958.43,251.724 \n",
       "  \"/>\n",
       "<polyline clip-path=\"url(#clip5201)\" style=\"stroke:#009af9; stroke-width:4; stroke-opacity:1; fill:none\" points=\"\n",
       "  1982.43,191.244 2126.43,191.244 \n",
       "  \"/>\n",
       "<g clip-path=\"url(#clip5201)\">\n",
       "<text style=\"fill:#000000; fill-opacity:1; font-family:Arial,Helvetica Neue,Helvetica,sans-serif; font-size:48; text-anchor:start;\" transform=\"rotate(0, 2150.43, 208.744)\" x=\"2150.43\" y=\"208.744\">y1</text>\n",
       "</g>\n",
       "</svg>\n"
      ]
     },
     "execution_count": 26,
     "metadata": {},
     "output_type": "execute_result"
    }
   ],
   "source": [
    "means = [mean(getsomeTas(walk!, 100, xi, a, n, [0.8, 0.2])),\n",
    "    mean(getsomeTas(walk!, 100, xi, a, n, [1.0, 0.2])),\n",
    "    mean(getsomeTas(walk!, 100, xi, a, n, [1.2, 0.2]))]\n",
    "plot([0.8, 1.0, 1.2], means)"
   ]
  },
  {
   "cell_type": "markdown",
   "metadata": {},
   "source": [
    "### Exercise 8(a)"
   ]
  },
  {
   "cell_type": "code",
   "execution_count": 5,
   "metadata": {},
   "outputs": [
    {
     "data": {
      "text/plain": [
       "newton (generic function with 1 method)"
      ]
     },
     "execution_count": 5,
     "metadata": {},
     "output_type": "execute_result"
    }
   ],
   "source": [
    "function newton(f, f_prime, x_0; tolerance = 1E-7, maxiter = 1000)\n",
    "    x_old = x_0\n",
    "    normdiff = Inf\n",
    "    iter = 1\n",
    "    while normdiff > tolerance && iter <= maxiter\n",
    "        x_new = x_old - f(x_old)/f_prime(x_old) #implement the Newtom alg\n",
    "        normdiff = norm(x_new - x_old)\n",
    "        x_old = x_new\n",
    "        iter += 1\n",
    "    end\n",
    "    return (x_old, normdiff, iter)\n",
    "end"
   ]
  },
  {
   "cell_type": "code",
   "execution_count": 6,
   "metadata": {},
   "outputs": [
    {
     "data": {
      "text/plain": [
       "(0.9999998643434097, 6.782829509166532e-8, 40)"
      ]
     },
     "execution_count": 6,
     "metadata": {},
     "output_type": "execute_result"
    }
   ],
   "source": [
    "f(x) = (x-1.0)^3; f_prime(x) = 3*(x-1)^2; x_0=0;\n",
    "newton(f, f_prime, x_0)"
   ]
  },
  {
   "cell_type": "markdown",
   "metadata": {},
   "source": [
    "Note true root is 1 so check that."
   ]
  },
  {
   "cell_type": "code",
   "execution_count": 7,
   "metadata": {},
   "outputs": [
    {
     "data": {
      "text/plain": [
       "false"
      ]
     },
     "execution_count": 7,
     "metadata": {},
     "output_type": "execute_result"
    }
   ],
   "source": [
    "norm(1-newton(f, f_prime, x_0)[1]) <= 1E-7"
   ]
  },
  {
   "cell_type": "markdown",
   "metadata": {},
   "source": [
    "Comment: not sure why Newton method doesn't converge perfectly with this function, but it works with the next one."
   ]
  },
  {
   "cell_type": "code",
   "execution_count": 8,
   "metadata": {},
   "outputs": [
    {
     "data": {
      "text/plain": [
       "(3.0, 1.3969838619232178e-9, 7)"
      ]
     },
     "execution_count": 8,
     "metadata": {},
     "output_type": "execute_result"
    }
   ],
   "source": [
    "new_f(x) = x^2 - 9; new_f_prime(x) = 2*x\n",
    "newton(new_f, new_f_prime, 1) # can't start at 0 \n",
    "                              # or it's in the denominator"
   ]
  },
  {
   "cell_type": "markdown",
   "metadata": {},
   "source": [
    "Check it converges to the right root: 3."
   ]
  },
  {
   "cell_type": "code",
   "execution_count": 9,
   "metadata": {},
   "outputs": [
    {
     "data": {
      "text/plain": [
       "true"
      ]
     },
     "execution_count": 9,
     "metadata": {},
     "output_type": "execute_result"
    }
   ],
   "source": [
    "norm(3-newton(new_f, new_f_prime, 1)[1]) <= 1E-7"
   ]
  },
  {
   "cell_type": "markdown",
   "metadata": {},
   "source": [
    "### Excercise 8(b)"
   ]
  },
  {
   "cell_type": "code",
   "execution_count": 10,
   "metadata": {},
   "outputs": [
    {
     "data": {
      "text/plain": [
       "(0.9999998643434097, 6.782829509166532e-8, 40)"
      ]
     },
     "execution_count": 10,
     "metadata": {},
     "output_type": "execute_result"
    }
   ],
   "source": [
    "using ForwardDiff\n",
    "D(f) = x -> ForwardDiff.derivative(f, x)\n",
    "f_prime_calc = D(f)\n",
    "\n",
    "#check if this works\n",
    "newton(f, f_prime_calc, 0)"
   ]
  },
  {
   "cell_type": "markdown",
   "metadata": {},
   "source": [
    "Looks the same. Now make it do the differentiation as part of the function itself."
   ]
  },
  {
   "cell_type": "code",
   "execution_count": 11,
   "metadata": {},
   "outputs": [
    {
     "data": {
      "text/plain": [
       "autonewton (generic function with 1 method)"
      ]
     },
     "execution_count": 11,
     "metadata": {},
     "output_type": "execute_result"
    }
   ],
   "source": [
    "function autonewton(f, x_0; tolerance = 1E-7, maxiter = 1000)\n",
    "    Diff(f) = x -> ForwardDiff.derivative(f, x)\n",
    "    f_prime = Diff(f)\n",
    "    x_old = x_0\n",
    "    normdiff = Inf\n",
    "    iter = 1\n",
    "    while normdiff > tolerance && iter <= maxiter\n",
    "        x_new = x_old - f(x_old)/f_prime(x_old) #implement the Newtom alg\n",
    "        normdiff = norm(x_new - x_old)\n",
    "        x_old = x_new\n",
    "        iter += 1\n",
    "    end\n",
    "    return (x_old, normdiff, iter)\n",
    "end"
   ]
  },
  {
   "cell_type": "code",
   "execution_count": 12,
   "metadata": {},
   "outputs": [
    {
     "data": {
      "text/plain": [
       "(0.9999998643434097, 6.782829509166532e-8, 40)"
      ]
     },
     "execution_count": 12,
     "metadata": {},
     "output_type": "execute_result"
    }
   ],
   "source": [
    "autonewton(f, x_0)"
   ]
  },
  {
   "cell_type": "code",
   "execution_count": 13,
   "metadata": {},
   "outputs": [
    {
     "data": {
      "text/plain": [
       "(3.0, 1.3969838619232178e-9, 6)"
      ]
     },
     "execution_count": 13,
     "metadata": {},
     "output_type": "execute_result"
    }
   ],
   "source": [
    "autonewton(new_f, 5)"
   ]
  },
  {
   "cell_type": "code",
   "execution_count": 14,
   "metadata": {},
   "outputs": [
    {
     "data": {
      "text/plain": [
       "autonewton_compact (generic function with 1 method)"
      ]
     },
     "execution_count": 14,
     "metadata": {},
     "output_type": "execute_result"
    }
   ],
   "source": [
    "autonewton_compact(f, x_0; tolerance=1E-7, maxiter=1000) = newton(f, x -> ForwardDiff.derivative(f, x), x_0; tolerance=tolerance, maxiter=maxiter)"
   ]
  },
  {
   "cell_type": "code",
   "execution_count": 15,
   "metadata": {},
   "outputs": [
    {
     "data": {
      "text/plain": [
       "(0.9999998643434097, 6.782829509166532e-8, 40)"
      ]
     },
     "execution_count": 15,
     "metadata": {},
     "output_type": "execute_result"
    }
   ],
   "source": [
    "autonewton_compact(f, x_0)"
   ]
  },
  {
   "cell_type": "code",
   "execution_count": 16,
   "metadata": {},
   "outputs": [
    {
     "data": {
      "text/plain": [
       "(3.0, 1.3969838619232178e-9, 6)"
      ]
     },
     "execution_count": 16,
     "metadata": {},
     "output_type": "execute_result"
    }
   ],
   "source": [
    "autonewton_compact(new_f, 5)"
   ]
  },
  {
   "cell_type": "code",
   "execution_count": 17,
   "metadata": {},
   "outputs": [
    {
     "name": "stdout",
     "output_type": "stream",
     "text": [
      "  1.033 μs (3 allocations: 64 bytes)\n",
      "  922.654 ns (3 allocations: 64 bytes)\n",
      "  1.177 μs (6 allocations: 128 bytes)\n"
     ]
    },
    {
     "data": {
      "text/plain": [
       "(0.9999998643434097, 6.782829509166532e-8, 40)"
      ]
     },
     "execution_count": 17,
     "metadata": {},
     "output_type": "execute_result"
    }
   ],
   "source": [
    "using BenchmarkTools\n",
    "@btime newton(f, f_prime, x_0)\n",
    "@btime autonewton(f, x_0)\n",
    "@btime autonewton_compact(f, x_0)\n",
    "# changing function from (x-1)^3 to (x-1.0)^3 improves performance\n",
    "# shifting from J 0.6 to 1.0 massively improves performance"
   ]
  },
  {
   "cell_type": "code",
   "execution_count": null,
   "metadata": {},
   "outputs": [],
   "source": []
  },
  {
   "cell_type": "code",
   "execution_count": null,
   "metadata": {},
   "outputs": [],
   "source": []
  }
 ],
 "metadata": {
  "kernelspec": {
   "display_name": "Julia 1.0.1",
   "language": "julia",
   "name": "julia-1.0"
  },
  "language_info": {
   "file_extension": ".jl",
   "mimetype": "application/julia",
   "name": "julia",
   "version": "1.0.1"
  }
 },
 "nbformat": 4,
 "nbformat_minor": 2
}
