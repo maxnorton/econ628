{
 "cells": [
  {
   "cell_type": "markdown",
   "metadata": {},
   "source": [
    "## Assignment 4\n",
    "Max Norton"
   ]
  },
  {
   "cell_type": "markdown",
   "metadata": {},
   "source": [
    "### Exercise 1\n",
    "Write a factorial function."
   ]
  },
  {
   "cell_type": "code",
   "execution_count": 6,
   "metadata": {},
   "outputs": [
    {
     "data": {
      "text/plain": [
       "factorial2 (generic function with 1 method)"
      ]
     },
     "execution_count": 6,
     "metadata": {},
     "output_type": "execute_result"
    }
   ],
   "source": [
    "function factorial2(n)\n",
    "    out=1\n",
    "    for i in 2:n\n",
    "        out = out*i\n",
    "    end\n",
    "    out\n",
    "end"
   ]
  },
  {
   "cell_type": "code",
   "execution_count": 12,
   "metadata": {},
   "outputs": [
    {
     "data": {
      "text/plain": [
       "true"
      ]
     },
     "execution_count": 12,
     "metadata": {},
     "output_type": "execute_result"
    }
   ],
   "source": [
    "factorial(20)==factorial2(20)"
   ]
  },
  {
   "cell_type": "markdown",
   "metadata": {},
   "source": [
    "### Exercise 2\n",
    "Write a function that generates a binomial random variable."
   ]
  },
  {
   "cell_type": "code",
   "execution_count": 29,
   "metadata": {},
   "outputs": [
    {
     "data": {
      "text/plain": [
       "binomial_rv (generic function with 1 method)"
      ]
     },
     "execution_count": 29,
     "metadata": {},
     "output_type": "execute_result"
    }
   ],
   "source": [
    "function binomial_rv(n, p)\n",
    "    inst = rand(n)\n",
    "    success = inst .< p\n",
    "    out = sum(success)\n",
    "end"
   ]
  },
  {
   "cell_type": "code",
   "execution_count": 39,
   "metadata": {},
   "outputs": [
    {
     "data": {
      "text/plain": [
       "8"
      ]
     },
     "execution_count": 39,
     "metadata": {},
     "output_type": "execute_result"
    }
   ],
   "source": [
    "binomial_rv(10, .5)"
   ]
  },
  {
   "cell_type": "markdown",
   "metadata": {},
   "source": [
    "### Exercise 3\n",
    "Compute a Monte Carlo approximation of π.\n",
    "\n",
    "A random pt in the unit square is in the circle at pt .5, .5 w radius .5 if $(x-.5)^2 + (y-.5)^2 \\le .25$\n",
    "\n",
    "ie $x^2 -x +.25 + y^2 -y + .25 \\le .25$\n",
    "\n",
    "ie $x^2 - x + y^2 - y \\le -.25$\n",
    "\n",
    "this circle has area .25 \\pi and radius .5\n",
    "\n",
    "the probability a uniform random variable on the unit square is in the circle is therefore equal to .25 \\pi\n",
    "\n",
    "if we have many of the uniform random variables then they will fall in the circle at that rate\n",
    "\n",
    "so we want to know the number of these that fall into the circle\n",
    "\n",
    "that number / n converges to pi"
   ]
  },
  {
   "cell_type": "code",
   "execution_count": 160,
   "metadata": {},
   "outputs": [
    {
     "data": {
      "text/plain": [
       "simpi (generic function with 1 method)"
      ]
     },
     "execution_count": 160,
     "metadata": {},
     "output_type": "execute_result"
    }
   ],
   "source": [
    "function simpi(n)\n",
    "    pts = rand(n,2)\n",
    "    incircle=zeros(n)\n",
    "    for i in 1:n\n",
    "        incircle[i] = ( sqrt((pts[i,1]-.5)^2 + (pts[i,2]-.5)^2)  <= .5 )\n",
    "    end\n",
    "    out = 4*sum(incircle)/n\n",
    "end"
   ]
  },
  {
   "cell_type": "code",
   "execution_count": 161,
   "metadata": {},
   "outputs": [
    {
     "data": {
      "text/plain": [
       "3.14268"
      ]
     },
     "execution_count": 161,
     "metadata": {},
     "output_type": "execute_result"
    }
   ],
   "source": [
    "simpi(100000)"
   ]
  },
  {
   "cell_type": "markdown",
   "metadata": {},
   "source": [
    "### Exercise 4\n",
    "\n",
    "Flip a coin 10 times\n",
    "If 3 heads occur one or more times, win $1\n",
    "If not, win nothing"
   ]
  },
  {
   "cell_type": "code",
   "execution_count": 179,
   "metadata": {},
   "outputs": [
    {
     "data": {
      "text/plain": [
       "gamble (generic function with 1 method)"
      ]
     },
     "execution_count": 179,
     "metadata": {},
     "output_type": "execute_result"
    }
   ],
   "source": [
    "function gamble()\n",
    "    headscount = 0\n",
    "    winnings=\"Nada\"\n",
    "    for i in 1:10\n",
    "        flip = rand()\n",
    "        println(flip)\n",
    "        if flip < .5\n",
    "            headscount += 1\n",
    "        else\n",
    "            headscount=0\n",
    "        end\n",
    "        if headscount==3\n",
    "            winnings=\"A buck\"\n",
    "            break\n",
    "        end\n",
    "    end\n",
    "    winnings\n",
    "end\n",
    "            "
   ]
  },
  {
   "cell_type": "code",
   "execution_count": 184,
   "metadata": {},
   "outputs": [
    {
     "name": "stdout",
     "output_type": "stream",
     "text": [
      "0.24909380330756115\n",
      "0.3752383400368007\n",
      "0.9726534905762234\n",
      "0.7220818632950592\n",
      "0.147011805200838\n",
      "0.979985733849593\n",
      "0.2008398915600007\n",
      "0.29342127673834373\n",
      "0.019481440620719992\n"
     ]
    },
    {
     "data": {
      "text/plain": [
       "\"A buck\""
      ]
     },
     "execution_count": 184,
     "metadata": {},
     "output_type": "execute_result"
    }
   ],
   "source": [
    "gamble()"
   ]
  },
  {
   "cell_type": "markdown",
   "metadata": {},
   "source": [
    "### Exercise 5\n",
    "Plot $x_{t+1} = \\alpha x_t + \\epsilon_{t+1}$ with the given parameters, where the $\\epsilon$s are iid standard normal."
   ]
  },
  {
   "cell_type": "code",
   "execution_count": 217,
   "metadata": {},
   "outputs": [
    {
     "data": {
      "image/svg+xml": [
       "<?xml version=\"1.0\" encoding=\"utf-8\"?>\n",
       "<svg xmlns=\"http://www.w3.org/2000/svg\" xmlns:xlink=\"http://www.w3.org/1999/xlink\" width=\"600\" height=\"400\" viewBox=\"0 0 600 400\">\n",
       "<defs>\n",
       "  <clipPath id=\"clip1500\">\n",
       "    <rect x=\"0\" y=\"0\" width=\"600\" height=\"400\"/>\n",
       "  </clipPath>\n",
       "</defs>\n",
       "<polygon clip-path=\"url(#clip1500)\" points=\"\n",
       "0,400 600,400 600,0 0,0 \n",
       "  \" fill=\"#ffffff\" fill-opacity=\"1\"/>\n",
       "<defs>\n",
       "  <clipPath id=\"clip1501\">\n",
       "    <rect x=\"120\" y=\"0\" width=\"421\" height=\"400\"/>\n",
       "  </clipPath>\n",
       "</defs>\n",
       "<polygon clip-path=\"url(#clip1500)\" points=\"\n",
       "29.4661,375.869 580.315,375.869 580.315,11.811 29.4661,11.811 \n",
       "  \" fill=\"#ffffff\" fill-opacity=\"1\"/>\n",
       "<defs>\n",
       "  <clipPath id=\"clip1502\">\n",
       "    <rect x=\"29\" y=\"11\" width=\"552\" height=\"365\"/>\n",
       "  </clipPath>\n",
       "</defs>\n",
       "<polyline clip-path=\"url(#clip1502)\" style=\"stroke:#000000; stroke-width:0.5; stroke-opacity:0.1; fill:none\" points=\"\n",
       "  165.102,375.869 165.102,11.811 \n",
       "  \"/>\n",
       "<polyline clip-path=\"url(#clip1502)\" style=\"stroke:#000000; stroke-width:0.5; stroke-opacity:0.1; fill:none\" points=\"\n",
       "  303.507,375.869 303.507,11.811 \n",
       "  \"/>\n",
       "<polyline clip-path=\"url(#clip1502)\" style=\"stroke:#000000; stroke-width:0.5; stroke-opacity:0.1; fill:none\" points=\"\n",
       "  441.911,375.869 441.911,11.811 \n",
       "  \"/>\n",
       "<polyline clip-path=\"url(#clip1502)\" style=\"stroke:#000000; stroke-width:0.5; stroke-opacity:0.1; fill:none\" points=\"\n",
       "  580.315,375.869 580.315,11.811 \n",
       "  \"/>\n",
       "<polyline clip-path=\"url(#clip1502)\" style=\"stroke:#000000; stroke-width:0.5; stroke-opacity:0.1; fill:none\" points=\"\n",
       "  29.4661,304.89 580.315,304.89 \n",
       "  \"/>\n",
       "<polyline clip-path=\"url(#clip1502)\" style=\"stroke:#000000; stroke-width:0.5; stroke-opacity:0.1; fill:none\" points=\"\n",
       "  29.4661,225.581 580.315,225.581 \n",
       "  \"/>\n",
       "<polyline clip-path=\"url(#clip1502)\" style=\"stroke:#000000; stroke-width:0.5; stroke-opacity:0.1; fill:none\" points=\"\n",
       "  29.4661,146.272 580.315,146.272 \n",
       "  \"/>\n",
       "<polyline clip-path=\"url(#clip1502)\" style=\"stroke:#000000; stroke-width:0.5; stroke-opacity:0.1; fill:none\" points=\"\n",
       "  29.4661,66.9634 580.315,66.9634 \n",
       "  \"/>\n",
       "<polyline clip-path=\"url(#clip1500)\" style=\"stroke:#000000; stroke-width:1; stroke-opacity:1; fill:none\" points=\"\n",
       "  29.4661,375.869 580.315,375.869 \n",
       "  \"/>\n",
       "<polyline clip-path=\"url(#clip1500)\" style=\"stroke:#000000; stroke-width:1; stroke-opacity:1; fill:none\" points=\"\n",
       "  29.4661,375.869 29.4661,11.811 \n",
       "  \"/>\n",
       "<polyline clip-path=\"url(#clip1500)\" style=\"stroke:#000000; stroke-width:1; stroke-opacity:1; fill:none\" points=\"\n",
       "  165.102,375.869 165.102,370.408 \n",
       "  \"/>\n",
       "<polyline clip-path=\"url(#clip1500)\" style=\"stroke:#000000; stroke-width:1; stroke-opacity:1; fill:none\" points=\"\n",
       "  303.507,375.869 303.507,370.408 \n",
       "  \"/>\n",
       "<polyline clip-path=\"url(#clip1500)\" style=\"stroke:#000000; stroke-width:1; stroke-opacity:1; fill:none\" points=\"\n",
       "  441.911,375.869 441.911,370.408 \n",
       "  \"/>\n",
       "<polyline clip-path=\"url(#clip1500)\" style=\"stroke:#000000; stroke-width:1; stroke-opacity:1; fill:none\" points=\"\n",
       "  580.315,375.869 580.315,370.408 \n",
       "  \"/>\n",
       "<polyline clip-path=\"url(#clip1500)\" style=\"stroke:#000000; stroke-width:1; stroke-opacity:1; fill:none\" points=\"\n",
       "  29.4661,304.89 37.7289,304.89 \n",
       "  \"/>\n",
       "<polyline clip-path=\"url(#clip1500)\" style=\"stroke:#000000; stroke-width:1; stroke-opacity:1; fill:none\" points=\"\n",
       "  29.4661,225.581 37.7289,225.581 \n",
       "  \"/>\n",
       "<polyline clip-path=\"url(#clip1500)\" style=\"stroke:#000000; stroke-width:1; stroke-opacity:1; fill:none\" points=\"\n",
       "  29.4661,146.272 37.7289,146.272 \n",
       "  \"/>\n",
       "<polyline clip-path=\"url(#clip1500)\" style=\"stroke:#000000; stroke-width:1; stroke-opacity:1; fill:none\" points=\"\n",
       "  29.4661,66.9634 37.7289,66.9634 \n",
       "  \"/>\n",
       "<g clip-path=\"url(#clip1500)\">\n",
       "<text style=\"fill:#000000; fill-opacity:1; font-family:Arial,Helvetica Neue,Helvetica,sans-serif; font-size:12; text-anchor:middle;\" transform=\"rotate(0, 165.102, 389.669)\" x=\"165.102\" y=\"389.669\">50</text>\n",
       "</g>\n",
       "<g clip-path=\"url(#clip1500)\">\n",
       "<text style=\"fill:#000000; fill-opacity:1; font-family:Arial,Helvetica Neue,Helvetica,sans-serif; font-size:12; text-anchor:middle;\" transform=\"rotate(0, 303.507, 389.669)\" x=\"303.507\" y=\"389.669\">100</text>\n",
       "</g>\n",
       "<g clip-path=\"url(#clip1500)\">\n",
       "<text style=\"fill:#000000; fill-opacity:1; font-family:Arial,Helvetica Neue,Helvetica,sans-serif; font-size:12; text-anchor:middle;\" transform=\"rotate(0, 441.911, 389.669)\" x=\"441.911\" y=\"389.669\">150</text>\n",
       "</g>\n",
       "<g clip-path=\"url(#clip1500)\">\n",
       "<text style=\"fill:#000000; fill-opacity:1; font-family:Arial,Helvetica Neue,Helvetica,sans-serif; font-size:12; text-anchor:middle;\" transform=\"rotate(0, 580.315, 389.669)\" x=\"580.315\" y=\"389.669\">200</text>\n",
       "</g>\n",
       "<g clip-path=\"url(#clip1500)\">\n",
       "<text style=\"fill:#000000; fill-opacity:1; font-family:Arial,Helvetica Neue,Helvetica,sans-serif; font-size:12; text-anchor:end;\" transform=\"rotate(0, 23.4661, 309.39)\" x=\"23.4661\" y=\"309.39\">-2</text>\n",
       "</g>\n",
       "<g clip-path=\"url(#clip1500)\">\n",
       "<text style=\"fill:#000000; fill-opacity:1; font-family:Arial,Helvetica Neue,Helvetica,sans-serif; font-size:12; text-anchor:end;\" transform=\"rotate(0, 23.4661, 230.081)\" x=\"23.4661\" y=\"230.081\">0</text>\n",
       "</g>\n",
       "<g clip-path=\"url(#clip1500)\">\n",
       "<text style=\"fill:#000000; fill-opacity:1; font-family:Arial,Helvetica Neue,Helvetica,sans-serif; font-size:12; text-anchor:end;\" transform=\"rotate(0, 23.4661, 150.772)\" x=\"23.4661\" y=\"150.772\">2</text>\n",
       "</g>\n",
       "<g clip-path=\"url(#clip1500)\">\n",
       "<text style=\"fill:#000000; fill-opacity:1; font-family:Arial,Helvetica Neue,Helvetica,sans-serif; font-size:12; text-anchor:end;\" transform=\"rotate(0, 23.4661, 71.4634)\" x=\"23.4661\" y=\"71.4634\">4</text>\n",
       "</g>\n",
       "<polyline clip-path=\"url(#clip1502)\" style=\"stroke:#009af9; stroke-width:1; stroke-opacity:1; fill:none\" points=\"\n",
       "  29.4661,225.581 32.2342,255.807 35.0023,255.655 37.7704,309.736 40.5385,249.349 43.3066,232.958 46.0746,155.477 48.8427,144.676 51.6108,203.831 54.3789,227.362 \n",
       "  57.147,208.201 59.9151,142.384 62.6832,159.76 65.4512,188.435 68.2193,220.319 70.9874,172.645 73.7555,178.504 76.5236,234.221 79.2917,272.288 82.0597,228.964 \n",
       "  84.8278,216.245 87.5959,193.077 90.364,184.349 93.1321,138.034 95.9002,125.917 98.6683,140.614 101.436,191.484 104.204,220.327 106.973,156.504 109.741,108.226 \n",
       "  112.509,126.734 115.277,150.771 118.045,126.984 120.813,150.545 123.581,154.739 126.349,174.186 129.117,173.992 131.885,135.53 134.653,144.169 137.421,115.571 \n",
       "  140.19,34.1839 142.958,33.4733 145.726,91.809 148.494,70.3799 151.262,56.791 154.03,83.7868 156.798,28.2287 159.566,11.811 162.334,83.7069 165.102,93.1709 \n",
       "  167.87,81.6243 170.638,44.0104 173.407,34.8293 176.175,62.8206 178.943,113.809 181.711,189.016 184.479,216.331 187.247,202.975 190.015,191.694 192.783,232.059 \n",
       "  195.551,272.739 198.319,334.469 201.087,375.869 203.855,316.179 206.624,278.584 209.392,281.252 212.16,272.393 214.928,239.558 217.696,252.541 220.464,258.412 \n",
       "  223.232,294.389 226,281.545 228.768,348.692 231.536,234.853 234.304,225.273 237.072,295.337 239.841,290.015 242.609,284.116 245.377,309.423 248.145,300.255 \n",
       "  250.913,276.33 253.681,227.984 256.449,225.039 259.217,237.167 261.985,216.059 264.753,222.578 267.521,232.643 270.289,291.005 273.058,304.78 275.826,348.378 \n",
       "  278.594,360.107 281.362,312.08 284.13,227.748 286.898,258.31 289.666,328.314 292.434,349.344 295.202,299.081 297.97,230.491 300.738,304.591 303.507,356.331 \n",
       "  306.275,305.579 309.043,322.341 311.811,306.413 314.579,319.731 317.347,369.783 320.115,303.977 322.883,286.857 325.651,249.089 328.419,305.061 331.187,318.012 \n",
       "  333.955,371.123 336.724,338.813 339.492,304.995 342.26,257.032 345.028,255.323 347.796,231.507 350.564,190.423 353.332,175.299 356.1,150.3 358.868,156.139 \n",
       "  361.636,174.473 364.404,186.107 367.172,231.438 369.941,246.187 372.709,308.468 375.477,238.468 378.245,251.955 381.013,201.644 383.781,167.829 386.549,199.107 \n",
       "  389.317,179.657 392.085,196.653 394.853,201.54 397.621,230.707 400.389,210.611 403.158,142.359 405.926,122.834 408.694,119.691 411.462,144.7 414.23,224.788 \n",
       "  416.998,197.023 419.766,134.219 422.534,162.253 425.302,175.267 428.07,203.831 430.838,121.595 433.606,137.771 436.375,146.041 439.143,190.282 441.911,237.651 \n",
       "  444.679,289.237 447.447,281.546 450.215,282.98 452.983,322.689 455.751,240.352 458.519,287.207 461.287,359.692 464.055,342.483 466.823,309.029 469.592,347.529 \n",
       "  472.36,305.871 475.128,239.827 477.896,228.092 480.664,244.582 483.432,227.07 486.2,175.867 488.968,198.884 491.736,192.831 494.504,183.211 497.272,188.824 \n",
       "  500.041,271.839 502.809,255.038 505.577,252.755 508.345,231.302 511.113,250.349 513.881,219.362 516.649,205.134 519.417,204.755 522.185,239.458 524.953,162.587 \n",
       "  527.721,222.851 530.489,237.808 533.258,189.697 536.026,110.971 538.794,161.98 541.562,213.891 544.33,207.567 547.098,249.16 549.866,287.737 552.634,301.538 \n",
       "  555.402,306.409 558.17,241.519 560.938,192.298 563.706,247.138 566.475,202.044 569.243,212.552 572.011,218.362 574.779,109.664 577.547,168.443 580.315,197.324 \n",
       "  \n",
       "  \"/>\n",
       "<polygon clip-path=\"url(#clip1500)\" points=\"\n",
       "489.608,62.931 562.315,62.931 562.315,32.691 489.608,32.691 \n",
       "  \" fill=\"#ffffff\" fill-opacity=\"1\"/>\n",
       "<polyline clip-path=\"url(#clip1500)\" style=\"stroke:#000000; stroke-width:1; stroke-opacity:1; fill:none\" points=\"\n",
       "  489.608,62.931 562.315,62.931 562.315,32.691 489.608,32.691 489.608,62.931 \n",
       "  \"/>\n",
       "<polyline clip-path=\"url(#clip1500)\" style=\"stroke:#009af9; stroke-width:1; stroke-opacity:1; fill:none\" points=\"\n",
       "  495.608,47.811 531.608,47.811 \n",
       "  \"/>\n",
       "<g clip-path=\"url(#clip1500)\">\n",
       "<text style=\"fill:#000000; fill-opacity:1; font-family:Arial,Helvetica Neue,Helvetica,sans-serif; font-size:12; text-anchor:start;\" transform=\"rotate(0, 537.608, 52.311)\" x=\"537.608\" y=\"52.311\">y1</text>\n",
       "</g>\n",
       "</svg>\n"
      ]
     },
     "execution_count": 217,
     "metadata": {},
     "output_type": "execute_result"
    }
   ],
   "source": [
    "using Plots, Distributions\n",
    "\n",
    "function f!(x, α)\n",
    "    x = α*x + randn()\n",
    "end\n",
    "\n",
    "function makets(xi, n, α)\n",
    "    ts=zeros(n)\n",
    "    ts[1]=xi\n",
    "    for i in 2:n\n",
    "        ts[i] = f!(ts[i-1],α)\n",
    "    end\n",
    "    ts\n",
    "end\n",
    "\n",
    "n=200\n",
    "α=.9\n",
    "xi=0.0\n",
    "\n",
    "plot(1:n, makets(xi,n,α))"
   ]
  },
  {
   "cell_type": "markdown",
   "metadata": {},
   "source": [
    "### Exercise 6"
   ]
  },
  {
   "cell_type": "code",
   "execution_count": 219,
   "metadata": {},
   "outputs": [
    {
     "data": {
      "image/svg+xml": [
       "<?xml version=\"1.0\" encoding=\"utf-8\"?>\n",
       "<svg xmlns=\"http://www.w3.org/2000/svg\" xmlns:xlink=\"http://www.w3.org/1999/xlink\" width=\"600\" height=\"400\" viewBox=\"0 0 600 400\">\n",
       "<defs>\n",
       "  <clipPath id=\"clip1700\">\n",
       "    <rect x=\"0\" y=\"0\" width=\"600\" height=\"400\"/>\n",
       "  </clipPath>\n",
       "</defs>\n",
       "<polygon clip-path=\"url(#clip1700)\" points=\"\n",
       "0,400 600,400 600,0 0,0 \n",
       "  \" fill=\"#ffffff\" fill-opacity=\"1\"/>\n",
       "<defs>\n",
       "  <clipPath id=\"clip1701\">\n",
       "    <rect x=\"120\" y=\"0\" width=\"421\" height=\"400\"/>\n",
       "  </clipPath>\n",
       "</defs>\n",
       "<polygon clip-path=\"url(#clip1700)\" points=\"\n",
       "29.4661,375.869 580.315,375.869 580.315,11.811 29.4661,11.811 \n",
       "  \" fill=\"#ffffff\" fill-opacity=\"1\"/>\n",
       "<defs>\n",
       "  <clipPath id=\"clip1702\">\n",
       "    <rect x=\"29\" y=\"11\" width=\"552\" height=\"365\"/>\n",
       "  </clipPath>\n",
       "</defs>\n",
       "<polyline clip-path=\"url(#clip1702)\" style=\"stroke:#000000; stroke-width:0.5; stroke-opacity:0.1; fill:none\" points=\"\n",
       "  165.102,375.869 165.102,11.811 \n",
       "  \"/>\n",
       "<polyline clip-path=\"url(#clip1702)\" style=\"stroke:#000000; stroke-width:0.5; stroke-opacity:0.1; fill:none\" points=\"\n",
       "  303.507,375.869 303.507,11.811 \n",
       "  \"/>\n",
       "<polyline clip-path=\"url(#clip1702)\" style=\"stroke:#000000; stroke-width:0.5; stroke-opacity:0.1; fill:none\" points=\"\n",
       "  441.911,375.869 441.911,11.811 \n",
       "  \"/>\n",
       "<polyline clip-path=\"url(#clip1702)\" style=\"stroke:#000000; stroke-width:0.5; stroke-opacity:0.1; fill:none\" points=\"\n",
       "  580.315,375.869 580.315,11.811 \n",
       "  \"/>\n",
       "<polyline clip-path=\"url(#clip1702)\" style=\"stroke:#000000; stroke-width:0.5; stroke-opacity:0.1; fill:none\" points=\"\n",
       "  29.4661,330.825 580.315,330.825 \n",
       "  \"/>\n",
       "<polyline clip-path=\"url(#clip1702)\" style=\"stroke:#000000; stroke-width:0.5; stroke-opacity:0.1; fill:none\" points=\"\n",
       "  29.4661,261.955 580.315,261.955 \n",
       "  \"/>\n",
       "<polyline clip-path=\"url(#clip1702)\" style=\"stroke:#000000; stroke-width:0.5; stroke-opacity:0.1; fill:none\" points=\"\n",
       "  29.4661,193.084 580.315,193.084 \n",
       "  \"/>\n",
       "<polyline clip-path=\"url(#clip1702)\" style=\"stroke:#000000; stroke-width:0.5; stroke-opacity:0.1; fill:none\" points=\"\n",
       "  29.4661,124.214 580.315,124.214 \n",
       "  \"/>\n",
       "<polyline clip-path=\"url(#clip1702)\" style=\"stroke:#000000; stroke-width:0.5; stroke-opacity:0.1; fill:none\" points=\"\n",
       "  29.4661,55.3432 580.315,55.3432 \n",
       "  \"/>\n",
       "<polyline clip-path=\"url(#clip1700)\" style=\"stroke:#000000; stroke-width:1; stroke-opacity:1; fill:none\" points=\"\n",
       "  29.4661,375.869 580.315,375.869 \n",
       "  \"/>\n",
       "<polyline clip-path=\"url(#clip1700)\" style=\"stroke:#000000; stroke-width:1; stroke-opacity:1; fill:none\" points=\"\n",
       "  29.4661,375.869 29.4661,11.811 \n",
       "  \"/>\n",
       "<polyline clip-path=\"url(#clip1700)\" style=\"stroke:#000000; stroke-width:1; stroke-opacity:1; fill:none\" points=\"\n",
       "  165.102,375.869 165.102,370.408 \n",
       "  \"/>\n",
       "<polyline clip-path=\"url(#clip1700)\" style=\"stroke:#000000; stroke-width:1; stroke-opacity:1; fill:none\" points=\"\n",
       "  303.507,375.869 303.507,370.408 \n",
       "  \"/>\n",
       "<polyline clip-path=\"url(#clip1700)\" style=\"stroke:#000000; stroke-width:1; stroke-opacity:1; fill:none\" points=\"\n",
       "  441.911,375.869 441.911,370.408 \n",
       "  \"/>\n",
       "<polyline clip-path=\"url(#clip1700)\" style=\"stroke:#000000; stroke-width:1; stroke-opacity:1; fill:none\" points=\"\n",
       "  580.315,375.869 580.315,370.408 \n",
       "  \"/>\n",
       "<polyline clip-path=\"url(#clip1700)\" style=\"stroke:#000000; stroke-width:1; stroke-opacity:1; fill:none\" points=\"\n",
       "  29.4661,330.825 37.7289,330.825 \n",
       "  \"/>\n",
       "<polyline clip-path=\"url(#clip1700)\" style=\"stroke:#000000; stroke-width:1; stroke-opacity:1; fill:none\" points=\"\n",
       "  29.4661,261.955 37.7289,261.955 \n",
       "  \"/>\n",
       "<polyline clip-path=\"url(#clip1700)\" style=\"stroke:#000000; stroke-width:1; stroke-opacity:1; fill:none\" points=\"\n",
       "  29.4661,193.084 37.7289,193.084 \n",
       "  \"/>\n",
       "<polyline clip-path=\"url(#clip1700)\" style=\"stroke:#000000; stroke-width:1; stroke-opacity:1; fill:none\" points=\"\n",
       "  29.4661,124.214 37.7289,124.214 \n",
       "  \"/>\n",
       "<polyline clip-path=\"url(#clip1700)\" style=\"stroke:#000000; stroke-width:1; stroke-opacity:1; fill:none\" points=\"\n",
       "  29.4661,55.3432 37.7289,55.3432 \n",
       "  \"/>\n",
       "<g clip-path=\"url(#clip1700)\">\n",
       "<text style=\"fill:#000000; fill-opacity:1; font-family:Arial,Helvetica Neue,Helvetica,sans-serif; font-size:12; text-anchor:middle;\" transform=\"rotate(0, 165.102, 389.669)\" x=\"165.102\" y=\"389.669\">50</text>\n",
       "</g>\n",
       "<g clip-path=\"url(#clip1700)\">\n",
       "<text style=\"fill:#000000; fill-opacity:1; font-family:Arial,Helvetica Neue,Helvetica,sans-serif; font-size:12; text-anchor:middle;\" transform=\"rotate(0, 303.507, 389.669)\" x=\"303.507\" y=\"389.669\">100</text>\n",
       "</g>\n",
       "<g clip-path=\"url(#clip1700)\">\n",
       "<text style=\"fill:#000000; fill-opacity:1; font-family:Arial,Helvetica Neue,Helvetica,sans-serif; font-size:12; text-anchor:middle;\" transform=\"rotate(0, 441.911, 389.669)\" x=\"441.911\" y=\"389.669\">150</text>\n",
       "</g>\n",
       "<g clip-path=\"url(#clip1700)\">\n",
       "<text style=\"fill:#000000; fill-opacity:1; font-family:Arial,Helvetica Neue,Helvetica,sans-serif; font-size:12; text-anchor:middle;\" transform=\"rotate(0, 580.315, 389.669)\" x=\"580.315\" y=\"389.669\">200</text>\n",
       "</g>\n",
       "<g clip-path=\"url(#clip1700)\">\n",
       "<text style=\"fill:#000000; fill-opacity:1; font-family:Arial,Helvetica Neue,Helvetica,sans-serif; font-size:12; text-anchor:end;\" transform=\"rotate(0, 23.4661, 335.325)\" x=\"23.4661\" y=\"335.325\">-3</text>\n",
       "</g>\n",
       "<g clip-path=\"url(#clip1700)\">\n",
       "<text style=\"fill:#000000; fill-opacity:1; font-family:Arial,Helvetica Neue,Helvetica,sans-serif; font-size:12; text-anchor:end;\" transform=\"rotate(0, 23.4661, 266.455)\" x=\"23.4661\" y=\"266.455\">0</text>\n",
       "</g>\n",
       "<g clip-path=\"url(#clip1700)\">\n",
       "<text style=\"fill:#000000; fill-opacity:1; font-family:Arial,Helvetica Neue,Helvetica,sans-serif; font-size:12; text-anchor:end;\" transform=\"rotate(0, 23.4661, 197.584)\" x=\"23.4661\" y=\"197.584\">3</text>\n",
       "</g>\n",
       "<g clip-path=\"url(#clip1700)\">\n",
       "<text style=\"fill:#000000; fill-opacity:1; font-family:Arial,Helvetica Neue,Helvetica,sans-serif; font-size:12; text-anchor:end;\" transform=\"rotate(0, 23.4661, 128.714)\" x=\"23.4661\" y=\"128.714\">6</text>\n",
       "</g>\n",
       "<g clip-path=\"url(#clip1700)\">\n",
       "<text style=\"fill:#000000; fill-opacity:1; font-family:Arial,Helvetica Neue,Helvetica,sans-serif; font-size:12; text-anchor:end;\" transform=\"rotate(0, 23.4661, 59.8432)\" x=\"23.4661\" y=\"59.8432\">9</text>\n",
       "</g>\n",
       "<polyline clip-path=\"url(#clip1702)\" style=\"stroke:#009af9; stroke-width:1; stroke-opacity:1; fill:none\" points=\"\n",
       "  29.4661,261.955 32.2342,280.39 35.0023,252.172 37.7704,275.197 40.5385,266.863 43.3066,249.603 46.0746,292.026 48.8427,258.045 51.6108,287.366 54.3789,271.554 \n",
       "  57.147,242.14 59.9151,263.79 62.6832,296.565 65.4512,269.08 68.2193,274.829 70.9874,258.048 73.7555,282.582 76.5236,280.532 79.2917,254.268 82.0597,207.991 \n",
       "  84.8278,284.591 87.5959,250.901 90.364,255.208 93.1321,266.764 95.9002,292.132 98.6683,257.366 101.436,280.388 104.204,272.808 106.973,259.131 109.741,289.575 \n",
       "  112.509,279.065 115.277,325.572 118.045,257.01 120.813,232.813 123.581,279.118 126.349,239.532 129.117,247.262 131.885,215.313 134.653,263.677 137.421,256.306 \n",
       "  140.19,248.232 142.958,230.578 145.726,278.618 148.494,241.66 151.262,259.722 154.03,250.093 156.798,257.907 159.566,261.262 162.334,296.435 165.102,280.793 \n",
       "  167.87,232.859 170.638,253.953 173.407,241.533 176.175,253.443 178.943,296.77 181.711,244.408 184.479,279.301 187.247,275.684 190.015,288.452 192.783,298.318 \n",
       "  195.551,276.814 198.319,296.764 201.087,236.583 203.855,246.487 206.624,258.447 209.392,270.921 212.16,240.181 214.928,283.459 217.696,272.978 220.464,250.821 \n",
       "  223.232,253.128 226,286.512 228.768,258.526 231.536,278.478 234.304,231.213 237.072,274.376 239.841,254.821 242.609,248.106 245.377,272.403 248.145,304.241 \n",
       "  250.913,233.535 253.681,261.111 256.449,285.249 259.217,298.58 261.985,260.184 264.753,274.089 267.521,279.449 270.289,206.788 273.058,290.651 275.826,258.644 \n",
       "  278.594,284.324 281.362,238.82 284.13,271.966 286.898,255.723 289.666,234.644 292.434,236.625 295.202,232.991 297.97,288.537 300.738,251.202 303.507,266.792 \n",
       "  306.275,267.053 309.043,220.659 311.811,262.878 314.579,262.966 317.347,238.219 320.115,278.289 322.883,269.812 325.651,275.521 328.419,264.501 331.187,249.661 \n",
       "  333.955,224.489 336.724,278.602 339.492,279.793 342.26,276.657 345.028,226.666 347.796,250.831 350.564,263.076 353.332,247.779 356.1,227.008 358.868,276.769 \n",
       "  361.636,233.802 364.404,231.311 367.172,260.145 369.941,231.691 372.709,261.642 375.477,272.447 378.245,278.051 381.013,268.271 383.781,258.782 386.549,246.496 \n",
       "  389.317,280.752 392.085,282.117 394.853,236.459 397.621,271.914 400.389,275.965 403.158,286.721 405.926,232.387 408.694,212.826 411.462,256.693 414.23,246.217 \n",
       "  416.998,295.118 419.766,243.143 422.534,252.67 425.302,235.119 428.07,246.626 430.838,288.032 433.606,259.5 436.375,237.668 439.143,241.395 441.911,278.223 \n",
       "  444.679,268.318 447.447,268.329 450.215,281.322 452.983,225.519 455.751,258.595 458.519,299.748 461.287,275.327 464.055,281.03 466.823,214.245 469.592,257.559 \n",
       "  472.36,305.622 475.128,251.542 477.896,235.717 480.664,290.497 483.432,316.691 486.2,299.277 488.968,237.828 491.736,263.817 494.504,245.411 497.272,270.724 \n",
       "  500.041,270.983 502.809,265.862 505.577,236.953 508.345,278.981 511.113,257.852 513.881,285.188 516.649,230.477 519.417,261.166 522.185,243.549 524.953,243.345 \n",
       "  527.721,263.47 530.489,264.936 533.258,307.379 536.026,257.115 538.794,245.455 541.562,277.147 544.33,253.372 547.098,250.271 549.866,268.422 552.634,250.897 \n",
       "  555.402,289.258 558.17,249.33 560.938,288.526 563.706,249.677 566.475,264.02 569.243,271.23 572.011,313.243 574.779,270.849 577.547,264.839 580.315,225.707 \n",
       "  \n",
       "  \"/>\n",
       "<polyline clip-path=\"url(#clip1702)\" style=\"stroke:#e26f46; stroke-width:1; stroke-opacity:1; fill:none\" points=\"\n",
       "  29.4661,261.955 32.2342,211.823 35.0023,242.157 37.7704,239.774 40.5385,255.418 43.3066,264.47 46.0746,260.884 48.8427,220.595 51.6108,257.582 54.3789,267.908 \n",
       "  57.147,261.671 59.9151,237.533 62.6832,261.663 65.4512,200.98 68.2193,230.827 70.9874,229.154 73.7555,234.61 76.5236,226.701 79.2917,251.52 82.0597,207.919 \n",
       "  84.8278,254.259 87.5959,265.759 90.364,234.693 93.1321,241.94 95.9002,219.598 98.6683,234.61 101.436,206.273 104.204,225.941 106.973,245.904 109.741,267.705 \n",
       "  112.509,267.142 115.277,266.744 118.045,296.922 120.813,288.677 123.581,310.033 126.349,277.367 129.117,293.273 131.885,268.395 134.653,311.889 137.421,350.892 \n",
       "  140.19,362.693 142.958,352.295 145.726,365.993 148.494,351.856 151.262,348.071 154.03,355.249 156.798,375.869 159.566,315.887 162.334,332.315 165.102,323.086 \n",
       "  167.87,297.746 170.638,289.367 173.407,290.042 176.175,247.464 178.943,251.931 181.711,251.377 184.479,247.042 187.247,218.429 190.015,226.559 192.783,224.983 \n",
       "  195.551,192.831 198.319,199.189 201.087,194.315 203.855,217.08 206.624,210.477 209.392,192.637 212.16,203.504 214.928,216.938 217.696,208.683 220.464,221.714 \n",
       "  223.232,281.927 226,294.138 228.768,273.295 231.536,244.556 234.304,230.56 237.072,239.229 239.841,244.591 242.609,270.889 245.377,267.954 248.145,261.14 \n",
       "  250.913,229.86 253.681,261.348 256.449,272.678 259.217,286.667 261.985,255.831 264.753,221.646 267.521,211.441 270.289,196.141 273.058,219.761 275.826,233.518 \n",
       "  278.594,245.173 281.362,276.885 284.13,274.685 286.898,305.027 289.666,336.657 292.434,293.255 295.202,308.69 297.97,272.602 300.738,236.828 303.507,244.163 \n",
       "  306.275,230.048 309.043,246.38 311.811,240.582 314.579,211.644 317.347,212.864 320.115,254.463 322.883,261.565 325.651,296.836 328.419,285.227 331.187,294.986 \n",
       "  333.955,337.663 336.724,341.266 339.492,301.336 342.26,311.516 345.028,331.236 347.796,323.747 350.564,336.199 353.332,337.795 356.1,330.191 358.868,331.72 \n",
       "  361.636,315.926 364.404,309.6 367.172,324.98 369.941,287.006 372.709,294.549 375.477,302.157 378.245,322.161 381.013,307.834 383.781,312.125 386.549,273.956 \n",
       "  389.317,277.358 392.085,251.621 394.853,280.896 397.621,291.147 400.389,278.346 403.158,313.155 405.926,298.44 408.694,302.842 411.462,279.811 414.23,256.782 \n",
       "  416.998,218.818 419.766,218.895 422.534,217.755 425.302,199.448 428.07,187.06 430.838,196.097 433.606,207.208 436.375,211.06 439.143,236.359 441.911,245.51 \n",
       "  444.679,260.295 447.447,267.101 450.215,252.537 452.983,252.139 455.751,227.943 458.519,205.837 461.287,243.449 464.055,302.436 466.823,302.316 469.592,322.6 \n",
       "  472.36,352.203 475.128,356.193 477.896,325.801 480.664,315.241 483.432,302.698 486.2,264.012 488.968,262.802 491.736,266.979 494.504,269.446 497.272,289.705 \n",
       "  500.041,326.557 502.809,336.836 505.577,309.007 508.345,269.362 511.113,227.394 513.881,222.034 516.649,293.524 519.417,278.05 522.185,270.355 524.953,270.41 \n",
       "  527.721,242.888 530.489,237.17 533.258,271.223 536.026,283.278 538.794,247.948 541.562,265.511 544.33,252.078 547.098,231.731 549.866,260.429 552.634,262.652 \n",
       "  555.402,253.044 558.17,207.286 560.938,257.566 563.706,241.762 566.475,227.361 569.243,254.731 572.011,244.37 574.779,260.737 577.547,286.588 580.315,281.652 \n",
       "  \n",
       "  \"/>\n",
       "<polyline clip-path=\"url(#clip1702)\" style=\"stroke:#3da44d; stroke-width:1; stroke-opacity:1; fill:none\" points=\"\n",
       "  29.4661,261.955 32.2342,339.198 35.0023,347.499 37.7704,330.536 40.5385,286.671 43.3066,306.961 46.0746,307.462 48.8427,316.505 51.6108,295.554 54.3789,261.904 \n",
       "  57.147,291.529 59.9151,340.979 62.6832,339.332 65.4512,292.185 68.2193,301.232 70.9874,289.78 73.7555,205.111 76.5236,194.189 79.2917,178.043 82.0597,165.487 \n",
       "  84.8278,184.338 87.5959,171.46 90.364,165.252 93.1321,153.187 95.9002,157.59 98.6683,160.349 101.436,149.093 104.204,131.572 106.973,133.238 109.741,125.474 \n",
       "  112.509,160.505 115.277,153.863 118.045,169.215 120.813,166.391 123.581,188.951 126.349,181.515 129.117,220.521 131.885,201.601 134.653,231.258 137.421,237.052 \n",
       "  140.19,215.265 142.958,237.515 145.726,214.089 148.494,241.344 151.262,239.529 154.03,242.058 156.798,228.694 159.566,238.099 162.334,239.899 165.102,208.444 \n",
       "  167.87,242.396 170.638,228.922 173.407,200.228 176.175,189.57 178.943,200.353 181.711,209.693 184.479,207.386 187.247,186.311 190.015,175.958 192.783,187.84 \n",
       "  195.551,169.534 198.319,182.515 201.087,140.656 203.855,137.588 206.624,153.071 209.392,168.045 212.16,174.229 214.928,199.057 217.696,166.416 220.464,215.111 \n",
       "  223.232,180.863 226,139.392 228.768,154.253 231.536,133.692 234.304,161.053 237.072,161.898 239.841,154.872 242.609,145.582 245.377,169.675 248.145,160.848 \n",
       "  250.913,181.665 253.681,211.682 256.449,212.154 259.217,199.351 261.985,213.888 264.753,213.039 267.521,226.098 270.289,224.358 273.058,255.262 275.826,254.242 \n",
       "  278.594,270.523 281.362,248.339 284.13,258.786 286.898,248.041 289.666,294.936 292.434,323.793 295.202,329.162 297.97,309.311 300.738,303.235 303.507,322.518 \n",
       "  306.275,289.144 309.043,306.004 311.811,311.454 314.579,296.395 317.347,320.97 320.115,346.026 322.883,330.052 325.651,312.25 328.419,296.687 331.187,304.801 \n",
       "  333.955,294.264 336.724,281.35 339.492,233.253 342.26,212.786 345.028,193.819 347.796,191.694 350.564,223.847 353.332,196.956 356.1,215.608 358.868,181.567 \n",
       "  361.636,145.718 364.404,153.344 367.172,138.669 369.941,145.988 372.709,160.385 375.477,140.875 378.245,153.906 381.013,176.998 383.781,182.774 386.549,194.794 \n",
       "  389.317,182.694 392.085,195.75 394.853,228.046 397.621,245.021 400.389,227.886 403.158,240.093 405.926,249.416 408.694,274.468 411.462,231.997 414.23,227.26 \n",
       "  416.998,229.015 419.766,188.714 422.534,192.821 425.302,170.06 428.07,189.474 430.838,172.745 433.606,154.688 436.375,135.169 439.143,143.811 441.911,93.6281 \n",
       "  444.679,103.712 447.447,65.9283 450.215,42.7899 452.983,42.6307 455.751,58.2919 458.519,73.8043 461.287,70.8019 464.055,25.467 466.823,21.0437 469.592,11.811 \n",
       "  472.36,24.2477 475.128,50.242 477.896,54.2253 480.664,71.7201 483.432,86.7232 486.2,93.788 488.968,155.716 491.736,168.128 494.504,152.927 497.272,131.98 \n",
       "  500.041,117.769 502.809,126.636 505.577,150.943 508.345,135.629 511.113,129.916 513.881,78.4686 516.649,93.0081 519.417,75.4607 522.185,54.8373 524.953,36.9532 \n",
       "  527.721,26.6229 530.489,49.4585 533.258,34.5052 536.026,41.9648 538.794,64.7195 541.562,58.028 544.33,33.4685 547.098,43.0295 549.866,57.9345 552.634,56.1914 \n",
       "  555.402,70.1953 558.17,89.9193 560.938,100.591 563.706,131.953 566.475,151.153 569.243,165.88 572.011,125.268 574.779,133.246 577.547,106.325 580.315,85.7682 \n",
       "  \n",
       "  \"/>\n",
       "<polygon clip-path=\"url(#clip1700)\" points=\"\n",
       "489.608,93.171 562.315,93.171 562.315,32.691 489.608,32.691 \n",
       "  \" fill=\"#ffffff\" fill-opacity=\"1\"/>\n",
       "<polyline clip-path=\"url(#clip1700)\" style=\"stroke:#000000; stroke-width:1; stroke-opacity:1; fill:none\" points=\"\n",
       "  489.608,93.171 562.315,93.171 562.315,32.691 489.608,32.691 489.608,93.171 \n",
       "  \"/>\n",
       "<polyline clip-path=\"url(#clip1700)\" style=\"stroke:#009af9; stroke-width:1; stroke-opacity:1; fill:none\" points=\"\n",
       "  495.608,47.811 531.608,47.811 \n",
       "  \"/>\n",
       "<g clip-path=\"url(#clip1700)\">\n",
       "<text style=\"fill:#000000; fill-opacity:1; font-family:Arial,Helvetica Neue,Helvetica,sans-serif; font-size:12; text-anchor:start;\" transform=\"rotate(0, 537.608, 52.311)\" x=\"537.608\" y=\"52.311\">y1</text>\n",
       "</g>\n",
       "<polyline clip-path=\"url(#clip1700)\" style=\"stroke:#e26f46; stroke-width:1; stroke-opacity:1; fill:none\" points=\"\n",
       "  495.608,62.931 531.608,62.931 \n",
       "  \"/>\n",
       "<g clip-path=\"url(#clip1700)\">\n",
       "<text style=\"fill:#000000; fill-opacity:1; font-family:Arial,Helvetica Neue,Helvetica,sans-serif; font-size:12; text-anchor:start;\" transform=\"rotate(0, 537.608, 67.431)\" x=\"537.608\" y=\"67.431\">y2</text>\n",
       "</g>\n",
       "<polyline clip-path=\"url(#clip1700)\" style=\"stroke:#3da44d; stroke-width:1; stroke-opacity:1; fill:none\" points=\"\n",
       "  495.608,78.051 531.608,78.051 \n",
       "  \"/>\n",
       "<g clip-path=\"url(#clip1700)\">\n",
       "<text style=\"fill:#000000; fill-opacity:1; font-family:Arial,Helvetica Neue,Helvetica,sans-serif; font-size:12; text-anchor:start;\" transform=\"rotate(0, 537.608, 82.551)\" x=\"537.608\" y=\"82.551\">y3</text>\n",
       "</g>\n",
       "</svg>\n"
      ]
     },
     "execution_count": 219,
     "metadata": {},
     "output_type": "execute_result"
    }
   ],
   "source": [
    "α1 = 0; α2 = .8; α3=.98;\n",
    "plot(1:n, makets(xi, n, α1))\n",
    "plot!(1:n, makets(xi, n, α2))\n",
    "plot!(1:n, makets(xi, n, α3))"
   ]
  },
  {
   "cell_type": "markdown",
   "metadata": {},
   "source": [
    "### Exercise 7"
   ]
  },
  {
   "cell_type": "code",
   "execution_count": 2,
   "metadata": {},
   "outputs": [],
   "source": [
    "using Plots, Distributions"
   ]
  },
  {
   "cell_type": "code",
   "execution_count": 20,
   "metadata": {},
   "outputs": [
    {
     "data": {
      "text/plain": [
       "getsomeTas (generic function with 1 method)"
      ]
     },
     "execution_count": 20,
     "metadata": {},
     "output_type": "execute_result"
    }
   ],
   "source": [
    "function walk!(x, params=[.2, 1.0])\n",
    "    α=params[1]; σ=params[2];\n",
    "    x = α*x + σ*randn()\n",
    "end\n",
    "\n",
    "function makeser(f!, xi, a, n, params)\n",
    "    ts = ones(n)\n",
    "    ts[1]=xi\n",
    "    for i in 2:n-1\n",
    "        ts[i] = f!(ts[i-1], params)[1]\n",
    "    end\n",
    "    ts[n]=0\n",
    "    Ta=200\n",
    "    for i in 2:n-1\n",
    "        if ts[i]<= a\n",
    "            Ta=i\n",
    "            break\n",
    "        end\n",
    "    end\n",
    "    (ts, Ta)\n",
    "end\n",
    "\n",
    "function getsomeTas(f!, thismany, xi, a, n, params)\n",
    "    fpt = Array{Int64}(thismany)\n",
    "    for i in 1:thismany\n",
    "        fpt[i] = makeser(f!, xi, a, n, params)[2]\n",
    "    end\n",
    "    fpt\n",
    "end"
   ]
  },
  {
   "cell_type": "markdown",
   "metadata": {},
   "source": [
    "1. Plot a histogram of $T_0$ for 100 random walks with $t_{max}=200.$"
   ]
  },
  {
   "cell_type": "code",
   "execution_count": 22,
   "metadata": {},
   "outputs": [
    {
     "data": {
      "image/svg+xml": [
       "<?xml version=\"1.0\" encoding=\"utf-8\"?>\n",
       "<svg xmlns=\"http://www.w3.org/2000/svg\" xmlns:xlink=\"http://www.w3.org/1999/xlink\" width=\"600\" height=\"400\" viewBox=\"0 0 600 400\">\n",
       "<defs>\n",
       "  <clipPath id=\"clip0400\">\n",
       "    <rect x=\"0\" y=\"0\" width=\"600\" height=\"400\"/>\n",
       "  </clipPath>\n",
       "</defs>\n",
       "<polygon clip-path=\"url(#clip0400)\" points=\"\n",
       "0,400 600,400 600,0 0,0 \n",
       "  \" fill=\"#ffffff\" fill-opacity=\"1\"/>\n",
       "<defs>\n",
       "  <clipPath id=\"clip0401\">\n",
       "    <rect x=\"120\" y=\"0\" width=\"421\" height=\"400\"/>\n",
       "  </clipPath>\n",
       "</defs>\n",
       "<polygon clip-path=\"url(#clip0400)\" points=\"\n",
       "29.1292,375.869 580.315,375.869 580.315,11.811 29.1292,11.811 \n",
       "  \" fill=\"#ffffff\" fill-opacity=\"1\"/>\n",
       "<defs>\n",
       "  <clipPath id=\"clip0402\">\n",
       "    <rect x=\"29\" y=\"11\" width=\"552\" height=\"365\"/>\n",
       "  </clipPath>\n",
       "</defs>\n",
       "<polyline clip-path=\"url(#clip0402)\" style=\"stroke:#000000; stroke-width:0.5; stroke-opacity:0.1; fill:none\" points=\"\n",
       "  66.3949,375.869 66.3949,11.811 \n",
       "  \"/>\n",
       "<polyline clip-path=\"url(#clip0402)\" style=\"stroke:#000000; stroke-width:0.5; stroke-opacity:0.1; fill:none\" points=\"\n",
       "  174.725,375.869 174.725,11.811 \n",
       "  \"/>\n",
       "<polyline clip-path=\"url(#clip0402)\" style=\"stroke:#000000; stroke-width:0.5; stroke-opacity:0.1; fill:none\" points=\"\n",
       "  283.056,375.869 283.056,11.811 \n",
       "  \"/>\n",
       "<polyline clip-path=\"url(#clip0402)\" style=\"stroke:#000000; stroke-width:0.5; stroke-opacity:0.1; fill:none\" points=\"\n",
       "  391.387,375.869 391.387,11.811 \n",
       "  \"/>\n",
       "<polyline clip-path=\"url(#clip0402)\" style=\"stroke:#000000; stroke-width:0.5; stroke-opacity:0.1; fill:none\" points=\"\n",
       "  499.717,375.869 499.717,11.811 \n",
       "  \"/>\n",
       "<polyline clip-path=\"url(#clip0402)\" style=\"stroke:#000000; stroke-width:0.5; stroke-opacity:0.1; fill:none\" points=\"\n",
       "  29.1292,375.869 580.315,375.869 \n",
       "  \"/>\n",
       "<polyline clip-path=\"url(#clip0402)\" style=\"stroke:#000000; stroke-width:0.5; stroke-opacity:0.1; fill:none\" points=\"\n",
       "  29.1292,293.128 580.315,293.128 \n",
       "  \"/>\n",
       "<polyline clip-path=\"url(#clip0402)\" style=\"stroke:#000000; stroke-width:0.5; stroke-opacity:0.1; fill:none\" points=\"\n",
       "  29.1292,210.388 580.315,210.388 \n",
       "  \"/>\n",
       "<polyline clip-path=\"url(#clip0402)\" style=\"stroke:#000000; stroke-width:0.5; stroke-opacity:0.1; fill:none\" points=\"\n",
       "  29.1292,127.648 580.315,127.648 \n",
       "  \"/>\n",
       "<polyline clip-path=\"url(#clip0402)\" style=\"stroke:#000000; stroke-width:0.5; stroke-opacity:0.1; fill:none\" points=\"\n",
       "  29.1292,44.9072 580.315,44.9072 \n",
       "  \"/>\n",
       "<polyline clip-path=\"url(#clip0400)\" style=\"stroke:#000000; stroke-width:1; stroke-opacity:1; fill:none\" points=\"\n",
       "  29.1292,375.869 580.315,375.869 \n",
       "  \"/>\n",
       "<polyline clip-path=\"url(#clip0400)\" style=\"stroke:#000000; stroke-width:1; stroke-opacity:1; fill:none\" points=\"\n",
       "  29.1292,375.869 29.1292,11.811 \n",
       "  \"/>\n",
       "<polyline clip-path=\"url(#clip0400)\" style=\"stroke:#000000; stroke-width:1; stroke-opacity:1; fill:none\" points=\"\n",
       "  66.3949,375.869 66.3949,370.408 \n",
       "  \"/>\n",
       "<polyline clip-path=\"url(#clip0400)\" style=\"stroke:#000000; stroke-width:1; stroke-opacity:1; fill:none\" points=\"\n",
       "  174.725,375.869 174.725,370.408 \n",
       "  \"/>\n",
       "<polyline clip-path=\"url(#clip0400)\" style=\"stroke:#000000; stroke-width:1; stroke-opacity:1; fill:none\" points=\"\n",
       "  283.056,375.869 283.056,370.408 \n",
       "  \"/>\n",
       "<polyline clip-path=\"url(#clip0400)\" style=\"stroke:#000000; stroke-width:1; stroke-opacity:1; fill:none\" points=\"\n",
       "  391.387,375.869 391.387,370.408 \n",
       "  \"/>\n",
       "<polyline clip-path=\"url(#clip0400)\" style=\"stroke:#000000; stroke-width:1; stroke-opacity:1; fill:none\" points=\"\n",
       "  499.717,375.869 499.717,370.408 \n",
       "  \"/>\n",
       "<polyline clip-path=\"url(#clip0400)\" style=\"stroke:#000000; stroke-width:1; stroke-opacity:1; fill:none\" points=\"\n",
       "  29.1292,375.869 37.397,375.869 \n",
       "  \"/>\n",
       "<polyline clip-path=\"url(#clip0400)\" style=\"stroke:#000000; stroke-width:1; stroke-opacity:1; fill:none\" points=\"\n",
       "  29.1292,293.128 37.397,293.128 \n",
       "  \"/>\n",
       "<polyline clip-path=\"url(#clip0400)\" style=\"stroke:#000000; stroke-width:1; stroke-opacity:1; fill:none\" points=\"\n",
       "  29.1292,210.388 37.397,210.388 \n",
       "  \"/>\n",
       "<polyline clip-path=\"url(#clip0400)\" style=\"stroke:#000000; stroke-width:1; stroke-opacity:1; fill:none\" points=\"\n",
       "  29.1292,127.648 37.397,127.648 \n",
       "  \"/>\n",
       "<polyline clip-path=\"url(#clip0400)\" style=\"stroke:#000000; stroke-width:1; stroke-opacity:1; fill:none\" points=\"\n",
       "  29.1292,44.9072 37.397,44.9072 \n",
       "  \"/>\n",
       "<g clip-path=\"url(#clip0400)\">\n",
       "<text style=\"fill:#000000; fill-opacity:1; font-family:Arial,Helvetica Neue,Helvetica,sans-serif; font-size:12; text-anchor:middle;\" transform=\"rotate(0, 66.3949, 389.669)\" x=\"66.3949\" y=\"389.669\">2.5</text>\n",
       "</g>\n",
       "<g clip-path=\"url(#clip0400)\">\n",
       "<text style=\"fill:#000000; fill-opacity:1; font-family:Arial,Helvetica Neue,Helvetica,sans-serif; font-size:12; text-anchor:middle;\" transform=\"rotate(0, 174.725, 389.669)\" x=\"174.725\" y=\"389.669\">5.0</text>\n",
       "</g>\n",
       "<g clip-path=\"url(#clip0400)\">\n",
       "<text style=\"fill:#000000; fill-opacity:1; font-family:Arial,Helvetica Neue,Helvetica,sans-serif; font-size:12; text-anchor:middle;\" transform=\"rotate(0, 283.056, 389.669)\" x=\"283.056\" y=\"389.669\">7.5</text>\n",
       "</g>\n",
       "<g clip-path=\"url(#clip0400)\">\n",
       "<text style=\"fill:#000000; fill-opacity:1; font-family:Arial,Helvetica Neue,Helvetica,sans-serif; font-size:12; text-anchor:middle;\" transform=\"rotate(0, 391.387, 389.669)\" x=\"391.387\" y=\"389.669\">10.0</text>\n",
       "</g>\n",
       "<g clip-path=\"url(#clip0400)\">\n",
       "<text style=\"fill:#000000; fill-opacity:1; font-family:Arial,Helvetica Neue,Helvetica,sans-serif; font-size:12; text-anchor:middle;\" transform=\"rotate(0, 499.717, 389.669)\" x=\"499.717\" y=\"389.669\">12.5</text>\n",
       "</g>\n",
       "<g clip-path=\"url(#clip0400)\">\n",
       "<text style=\"fill:#000000; fill-opacity:1; font-family:Arial,Helvetica Neue,Helvetica,sans-serif; font-size:12; text-anchor:end;\" transform=\"rotate(0, 23.1292, 380.369)\" x=\"23.1292\" y=\"380.369\">0</text>\n",
       "</g>\n",
       "<g clip-path=\"url(#clip0400)\">\n",
       "<text style=\"fill:#000000; fill-opacity:1; font-family:Arial,Helvetica Neue,Helvetica,sans-serif; font-size:12; text-anchor:end;\" transform=\"rotate(0, 23.1292, 297.628)\" x=\"23.1292\" y=\"297.628\">10</text>\n",
       "</g>\n",
       "<g clip-path=\"url(#clip0400)\">\n",
       "<text style=\"fill:#000000; fill-opacity:1; font-family:Arial,Helvetica Neue,Helvetica,sans-serif; font-size:12; text-anchor:end;\" transform=\"rotate(0, 23.1292, 214.888)\" x=\"23.1292\" y=\"214.888\">20</text>\n",
       "</g>\n",
       "<g clip-path=\"url(#clip0400)\">\n",
       "<text style=\"fill:#000000; fill-opacity:1; font-family:Arial,Helvetica Neue,Helvetica,sans-serif; font-size:12; text-anchor:end;\" transform=\"rotate(0, 23.1292, 132.148)\" x=\"23.1292\" y=\"132.148\">30</text>\n",
       "</g>\n",
       "<g clip-path=\"url(#clip0400)\">\n",
       "<text style=\"fill:#000000; fill-opacity:1; font-family:Arial,Helvetica Neue,Helvetica,sans-serif; font-size:12; text-anchor:end;\" transform=\"rotate(0, 23.1292, 49.4072)\" x=\"23.1292\" y=\"49.4072\">40</text>\n",
       "</g>\n",
       "<polygon clip-path=\"url(#clip0402)\" points=\"\n",
       "44.7288,11.811 44.7288,375.869 88.061,375.869 88.061,11.811 44.7288,11.811 44.7288,11.811 \n",
       "  \" fill=\"#009af9\" fill-opacity=\"1\"/>\n",
       "<polyline clip-path=\"url(#clip0402)\" style=\"stroke:#000000; stroke-width:1; stroke-opacity:1; fill:none\" points=\"\n",
       "  44.7288,11.811 44.7288,375.869 88.061,375.869 88.061,11.811 44.7288,11.811 \n",
       "  \"/>\n",
       "<polygon clip-path=\"url(#clip0402)\" points=\"\n",
       "88.061,169.018 88.061,375.869 131.393,375.869 131.393,169.018 88.061,169.018 88.061,169.018 \n",
       "  \" fill=\"#009af9\" fill-opacity=\"1\"/>\n",
       "<polyline clip-path=\"url(#clip0402)\" style=\"stroke:#000000; stroke-width:1; stroke-opacity:1; fill:none\" points=\"\n",
       "  88.061,169.018 88.061,375.869 131.393,375.869 131.393,169.018 88.061,169.018 \n",
       "  \"/>\n",
       "<polygon clip-path=\"url(#clip0402)\" points=\"\n",
       "131.393,284.854 131.393,375.869 174.725,375.869 174.725,284.854 131.393,284.854 131.393,284.854 \n",
       "  \" fill=\"#009af9\" fill-opacity=\"1\"/>\n",
       "<polyline clip-path=\"url(#clip0402)\" style=\"stroke:#000000; stroke-width:1; stroke-opacity:1; fill:none\" points=\"\n",
       "  131.393,284.854 131.393,375.869 174.725,375.869 174.725,284.854 131.393,284.854 \n",
       "  \"/>\n",
       "<polygon clip-path=\"url(#clip0402)\" points=\"\n",
       "174.725,293.128 174.725,375.869 218.058,375.869 218.058,293.128 174.725,293.128 174.725,293.128 \n",
       "  \" fill=\"#009af9\" fill-opacity=\"1\"/>\n",
       "<polyline clip-path=\"url(#clip0402)\" style=\"stroke:#000000; stroke-width:1; stroke-opacity:1; fill:none\" points=\"\n",
       "  174.725,293.128 174.725,375.869 218.058,375.869 218.058,293.128 174.725,293.128 \n",
       "  \"/>\n",
       "<polygon clip-path=\"url(#clip0402)\" points=\"\n",
       "218.058,351.047 218.058,375.869 261.39,375.869 261.39,351.047 218.058,351.047 218.058,351.047 \n",
       "  \" fill=\"#009af9\" fill-opacity=\"1\"/>\n",
       "<polyline clip-path=\"url(#clip0402)\" style=\"stroke:#000000; stroke-width:1; stroke-opacity:1; fill:none\" points=\"\n",
       "  218.058,351.047 218.058,375.869 261.39,375.869 261.39,351.047 218.058,351.047 \n",
       "  \"/>\n",
       "<polygon clip-path=\"url(#clip0402)\" points=\"\n",
       "261.39,351.047 261.39,375.869 304.722,375.869 304.722,351.047 261.39,351.047 261.39,351.047 \n",
       "  \" fill=\"#009af9\" fill-opacity=\"1\"/>\n",
       "<polyline clip-path=\"url(#clip0402)\" style=\"stroke:#000000; stroke-width:1; stroke-opacity:1; fill:none\" points=\"\n",
       "  261.39,351.047 261.39,375.869 304.722,375.869 304.722,351.047 261.39,351.047 \n",
       "  \"/>\n",
       "<polygon clip-path=\"url(#clip0402)\" points=\"\n",
       "304.722,359.321 304.722,375.869 348.054,375.869 348.054,359.321 304.722,359.321 304.722,359.321 \n",
       "  \" fill=\"#009af9\" fill-opacity=\"1\"/>\n",
       "<polyline clip-path=\"url(#clip0402)\" style=\"stroke:#000000; stroke-width:1; stroke-opacity:1; fill:none\" points=\"\n",
       "  304.722,359.321 304.722,375.869 348.054,375.869 348.054,359.321 304.722,359.321 \n",
       "  \"/>\n",
       "<polygon clip-path=\"url(#clip0402)\" points=\"\n",
       "348.054,375.869 348.054,375.869 391.387,375.869 391.387,375.869 348.054,375.869 348.054,375.869 \n",
       "  \" fill=\"#009af9\" fill-opacity=\"1\"/>\n",
       "<polyline clip-path=\"url(#clip0402)\" style=\"stroke:#000000; stroke-width:1; stroke-opacity:1; fill:none\" points=\"\n",
       "  348.054,375.869 348.054,375.869 391.387,375.869 348.054,375.869 \n",
       "  \"/>\n",
       "<polygon clip-path=\"url(#clip0402)\" points=\"\n",
       "391.387,375.869 391.387,375.869 434.719,375.869 434.719,375.869 391.387,375.869 391.387,375.869 \n",
       "  \" fill=\"#009af9\" fill-opacity=\"1\"/>\n",
       "<polyline clip-path=\"url(#clip0402)\" style=\"stroke:#000000; stroke-width:1; stroke-opacity:1; fill:none\" points=\"\n",
       "  391.387,375.869 391.387,375.869 434.719,375.869 391.387,375.869 \n",
       "  \"/>\n",
       "<polygon clip-path=\"url(#clip0402)\" points=\"\n",
       "434.719,367.595 434.719,375.869 478.051,375.869 478.051,367.595 434.719,367.595 434.719,367.595 \n",
       "  \" fill=\"#009af9\" fill-opacity=\"1\"/>\n",
       "<polyline clip-path=\"url(#clip0402)\" style=\"stroke:#000000; stroke-width:1; stroke-opacity:1; fill:none\" points=\"\n",
       "  434.719,367.595 434.719,375.869 478.051,375.869 478.051,367.595 434.719,367.595 \n",
       "  \"/>\n",
       "<polygon clip-path=\"url(#clip0402)\" points=\"\n",
       "478.051,375.869 478.051,375.869 521.383,375.869 521.383,375.869 478.051,375.869 478.051,375.869 \n",
       "  \" fill=\"#009af9\" fill-opacity=\"1\"/>\n",
       "<polyline clip-path=\"url(#clip0402)\" style=\"stroke:#000000; stroke-width:1; stroke-opacity:1; fill:none\" points=\"\n",
       "  478.051,375.869 478.051,375.869 521.383,375.869 478.051,375.869 \n",
       "  \"/>\n",
       "<polygon clip-path=\"url(#clip0402)\" points=\"\n",
       "521.383,367.595 521.383,375.869 564.715,375.869 564.715,367.595 521.383,367.595 521.383,367.595 \n",
       "  \" fill=\"#009af9\" fill-opacity=\"1\"/>\n",
       "<polyline clip-path=\"url(#clip0402)\" style=\"stroke:#000000; stroke-width:1; stroke-opacity:1; fill:none\" points=\"\n",
       "  521.383,367.595 521.383,375.869 564.715,375.869 564.715,367.595 521.383,367.595 \n",
       "  \"/>\n",
       "<polygon clip-path=\"url(#clip0400)\" points=\"\n",
       "489.608,62.931 562.315,62.931 562.315,32.691 489.608,32.691 \n",
       "  \" fill=\"#ffffff\" fill-opacity=\"1\"/>\n",
       "<polyline clip-path=\"url(#clip0400)\" style=\"stroke:#000000; stroke-width:1; stroke-opacity:1; fill:none\" points=\"\n",
       "  489.608,62.931 562.315,62.931 562.315,32.691 489.608,32.691 489.608,62.931 \n",
       "  \"/>\n",
       "<polygon clip-path=\"url(#clip0400)\" points=\"\n",
       "495.608,53.859 531.608,53.859 531.608,41.763 495.608,41.763 495.608,53.859 \n",
       "  \" fill=\"#009af9\" fill-opacity=\"1\"/>\n",
       "<polyline clip-path=\"url(#clip0400)\" style=\"stroke:#000000; stroke-width:1; stroke-opacity:1; fill:none\" points=\"\n",
       "  495.608,53.859 531.608,53.859 531.608,41.763 495.608,41.763 495.608,53.859 \n",
       "  \"/>\n",
       "<g clip-path=\"url(#clip0400)\">\n",
       "<text style=\"fill:#000000; fill-opacity:1; font-family:Arial,Helvetica Neue,Helvetica,sans-serif; font-size:12; text-anchor:start;\" transform=\"rotate(0, 537.608, 52.311)\" x=\"537.608\" y=\"52.311\">y1</text>\n",
       "</g>\n",
       "</svg>\n"
      ]
     },
     "execution_count": 22,
     "metadata": {},
     "output_type": "execute_result"
    }
   ],
   "source": [
    "n=200; params=[.2, 1.0]; xi=1; a=0;\n",
    "\n",
    "vals = getsomeTas(walk!, 100, xi, a, n, params)\n",
    "histogram(vals)"
   ]
  },
  {
   "cell_type": "markdown",
   "metadata": {},
   "source": [
    "2. Plot the sample mean of $T_0$ for $α \\in \\{0.5, 1.0, 1.2\\}$"
   ]
  },
  {
   "cell_type": "code",
   "execution_count": 28,
   "metadata": {},
   "outputs": [
    {
     "data": {
      "image/svg+xml": [
       "<?xml version=\"1.0\" encoding=\"utf-8\"?>\n",
       "<svg xmlns=\"http://www.w3.org/2000/svg\" xmlns:xlink=\"http://www.w3.org/1999/xlink\" width=\"600\" height=\"400\" viewBox=\"0 0 600 400\">\n",
       "<defs>\n",
       "  <clipPath id=\"clip0600\">\n",
       "    <rect x=\"0\" y=\"0\" width=\"600\" height=\"400\"/>\n",
       "  </clipPath>\n",
       "</defs>\n",
       "<polygon clip-path=\"url(#clip0600)\" points=\"\n",
       "0,400 600,400 600,0 0,0 \n",
       "  \" fill=\"#ffffff\" fill-opacity=\"1\"/>\n",
       "<defs>\n",
       "  <clipPath id=\"clip0601\">\n",
       "    <rect x=\"120\" y=\"0\" width=\"421\" height=\"400\"/>\n",
       "  </clipPath>\n",
       "</defs>\n",
       "<polygon clip-path=\"url(#clip0600)\" points=\"\n",
       "45.8557,375.869 580.315,375.869 580.315,11.811 45.8557,11.811 \n",
       "  \" fill=\"#ffffff\" fill-opacity=\"1\"/>\n",
       "<defs>\n",
       "  <clipPath id=\"clip0602\">\n",
       "    <rect x=\"45\" y=\"11\" width=\"535\" height=\"365\"/>\n",
       "  </clipPath>\n",
       "</defs>\n",
       "<polyline clip-path=\"url(#clip0602)\" style=\"stroke:#000000; stroke-width:0.5; stroke-opacity:0.1; fill:none\" points=\"\n",
       "  45.8557,375.869 45.8557,11.811 \n",
       "  \"/>\n",
       "<polyline clip-path=\"url(#clip0602)\" style=\"stroke:#000000; stroke-width:0.5; stroke-opacity:0.1; fill:none\" points=\"\n",
       "  179.47,375.869 179.47,11.811 \n",
       "  \"/>\n",
       "<polyline clip-path=\"url(#clip0602)\" style=\"stroke:#000000; stroke-width:0.5; stroke-opacity:0.1; fill:none\" points=\"\n",
       "  313.085,375.869 313.085,11.811 \n",
       "  \"/>\n",
       "<polyline clip-path=\"url(#clip0602)\" style=\"stroke:#000000; stroke-width:0.5; stroke-opacity:0.1; fill:none\" points=\"\n",
       "  446.7,375.869 446.7,11.811 \n",
       "  \"/>\n",
       "<polyline clip-path=\"url(#clip0602)\" style=\"stroke:#000000; stroke-width:0.5; stroke-opacity:0.1; fill:none\" points=\"\n",
       "  45.8557,360.7 580.315,360.7 \n",
       "  \"/>\n",
       "<polyline clip-path=\"url(#clip0602)\" style=\"stroke:#000000; stroke-width:0.5; stroke-opacity:0.1; fill:none\" points=\"\n",
       "  45.8557,284.854 580.315,284.854 \n",
       "  \"/>\n",
       "<polyline clip-path=\"url(#clip0602)\" style=\"stroke:#000000; stroke-width:0.5; stroke-opacity:0.1; fill:none\" points=\"\n",
       "  45.8557,209.009 580.315,209.009 \n",
       "  \"/>\n",
       "<polyline clip-path=\"url(#clip0602)\" style=\"stroke:#000000; stroke-width:0.5; stroke-opacity:0.1; fill:none\" points=\"\n",
       "  45.8557,133.164 580.315,133.164 \n",
       "  \"/>\n",
       "<polyline clip-path=\"url(#clip0602)\" style=\"stroke:#000000; stroke-width:0.5; stroke-opacity:0.1; fill:none\" points=\"\n",
       "  45.8557,57.3182 580.315,57.3182 \n",
       "  \"/>\n",
       "<polyline clip-path=\"url(#clip0600)\" style=\"stroke:#000000; stroke-width:1; stroke-opacity:1; fill:none\" points=\"\n",
       "  45.8557,375.869 580.315,375.869 \n",
       "  \"/>\n",
       "<polyline clip-path=\"url(#clip0600)\" style=\"stroke:#000000; stroke-width:1; stroke-opacity:1; fill:none\" points=\"\n",
       "  45.8557,375.869 45.8557,11.811 \n",
       "  \"/>\n",
       "<polyline clip-path=\"url(#clip0600)\" style=\"stroke:#000000; stroke-width:1; stroke-opacity:1; fill:none\" points=\"\n",
       "  45.8557,375.869 45.8557,370.408 \n",
       "  \"/>\n",
       "<polyline clip-path=\"url(#clip0600)\" style=\"stroke:#000000; stroke-width:1; stroke-opacity:1; fill:none\" points=\"\n",
       "  179.47,375.869 179.47,370.408 \n",
       "  \"/>\n",
       "<polyline clip-path=\"url(#clip0600)\" style=\"stroke:#000000; stroke-width:1; stroke-opacity:1; fill:none\" points=\"\n",
       "  313.085,375.869 313.085,370.408 \n",
       "  \"/>\n",
       "<polyline clip-path=\"url(#clip0600)\" style=\"stroke:#000000; stroke-width:1; stroke-opacity:1; fill:none\" points=\"\n",
       "  446.7,375.869 446.7,370.408 \n",
       "  \"/>\n",
       "<polyline clip-path=\"url(#clip0600)\" style=\"stroke:#000000; stroke-width:1; stroke-opacity:1; fill:none\" points=\"\n",
       "  45.8557,360.7 53.8726,360.7 \n",
       "  \"/>\n",
       "<polyline clip-path=\"url(#clip0600)\" style=\"stroke:#000000; stroke-width:1; stroke-opacity:1; fill:none\" points=\"\n",
       "  45.8557,284.854 53.8726,284.854 \n",
       "  \"/>\n",
       "<polyline clip-path=\"url(#clip0600)\" style=\"stroke:#000000; stroke-width:1; stroke-opacity:1; fill:none\" points=\"\n",
       "  45.8557,209.009 53.8726,209.009 \n",
       "  \"/>\n",
       "<polyline clip-path=\"url(#clip0600)\" style=\"stroke:#000000; stroke-width:1; stroke-opacity:1; fill:none\" points=\"\n",
       "  45.8557,133.164 53.8726,133.164 \n",
       "  \"/>\n",
       "<polyline clip-path=\"url(#clip0600)\" style=\"stroke:#000000; stroke-width:1; stroke-opacity:1; fill:none\" points=\"\n",
       "  45.8557,57.3182 53.8726,57.3182 \n",
       "  \"/>\n",
       "<g clip-path=\"url(#clip0600)\">\n",
       "<text style=\"fill:#000000; fill-opacity:1; font-family:Arial,Helvetica Neue,Helvetica,sans-serif; font-size:12; text-anchor:middle;\" transform=\"rotate(0, 45.8557, 389.669)\" x=\"45.8557\" y=\"389.669\">0.8</text>\n",
       "</g>\n",
       "<g clip-path=\"url(#clip0600)\">\n",
       "<text style=\"fill:#000000; fill-opacity:1; font-family:Arial,Helvetica Neue,Helvetica,sans-serif; font-size:12; text-anchor:middle;\" transform=\"rotate(0, 179.47, 389.669)\" x=\"179.47\" y=\"389.669\">0.9</text>\n",
       "</g>\n",
       "<g clip-path=\"url(#clip0600)\">\n",
       "<text style=\"fill:#000000; fill-opacity:1; font-family:Arial,Helvetica Neue,Helvetica,sans-serif; font-size:12; text-anchor:middle;\" transform=\"rotate(0, 313.085, 389.669)\" x=\"313.085\" y=\"389.669\">1.0</text>\n",
       "</g>\n",
       "<g clip-path=\"url(#clip0600)\">\n",
       "<text style=\"fill:#000000; fill-opacity:1; font-family:Arial,Helvetica Neue,Helvetica,sans-serif; font-size:12; text-anchor:middle;\" transform=\"rotate(0, 446.7, 389.669)\" x=\"446.7\" y=\"389.669\">1.1</text>\n",
       "</g>\n",
       "<g clip-path=\"url(#clip0600)\">\n",
       "<text style=\"fill:#000000; fill-opacity:1; font-family:Arial,Helvetica Neue,Helvetica,sans-serif; font-size:12; text-anchor:end;\" transform=\"rotate(0, 39.8557, 365.2)\" x=\"39.8557\" y=\"365.2\">3.425</text>\n",
       "</g>\n",
       "<g clip-path=\"url(#clip0600)\">\n",
       "<text style=\"fill:#000000; fill-opacity:1; font-family:Arial,Helvetica Neue,Helvetica,sans-serif; font-size:12; text-anchor:end;\" transform=\"rotate(0, 39.8557, 289.354)\" x=\"39.8557\" y=\"289.354\">3.450</text>\n",
       "</g>\n",
       "<g clip-path=\"url(#clip0600)\">\n",
       "<text style=\"fill:#000000; fill-opacity:1; font-family:Arial,Helvetica Neue,Helvetica,sans-serif; font-size:12; text-anchor:end;\" transform=\"rotate(0, 39.8557, 213.509)\" x=\"39.8557\" y=\"213.509\">3.475</text>\n",
       "</g>\n",
       "<g clip-path=\"url(#clip0600)\">\n",
       "<text style=\"fill:#000000; fill-opacity:1; font-family:Arial,Helvetica Neue,Helvetica,sans-serif; font-size:12; text-anchor:end;\" transform=\"rotate(0, 39.8557, 137.664)\" x=\"39.8557\" y=\"137.664\">3.500</text>\n",
       "</g>\n",
       "<g clip-path=\"url(#clip0600)\">\n",
       "<text style=\"fill:#000000; fill-opacity:1; font-family:Arial,Helvetica Neue,Helvetica,sans-serif; font-size:12; text-anchor:end;\" transform=\"rotate(0, 39.8557, 61.8182)\" x=\"39.8557\" y=\"61.8182\">3.525</text>\n",
       "</g>\n",
       "<polyline clip-path=\"url(#clip0602)\" style=\"stroke:#009af9; stroke-width:1; stroke-opacity:1; fill:none\" points=\"\n",
       "  45.8557,254.516 313.085,11.811 580.315,375.869 \n",
       "  \"/>\n",
       "<polygon clip-path=\"url(#clip0600)\" points=\"\n",
       "489.608,62.931 562.315,62.931 562.315,32.691 489.608,32.691 \n",
       "  \" fill=\"#ffffff\" fill-opacity=\"1\"/>\n",
       "<polyline clip-path=\"url(#clip0600)\" style=\"stroke:#000000; stroke-width:1; stroke-opacity:1; fill:none\" points=\"\n",
       "  489.608,62.931 562.315,62.931 562.315,32.691 489.608,32.691 489.608,62.931 \n",
       "  \"/>\n",
       "<polyline clip-path=\"url(#clip0600)\" style=\"stroke:#009af9; stroke-width:1; stroke-opacity:1; fill:none\" points=\"\n",
       "  495.608,47.811 531.608,47.811 \n",
       "  \"/>\n",
       "<g clip-path=\"url(#clip0600)\">\n",
       "<text style=\"fill:#000000; fill-opacity:1; font-family:Arial,Helvetica Neue,Helvetica,sans-serif; font-size:12; text-anchor:start;\" transform=\"rotate(0, 537.608, 52.311)\" x=\"537.608\" y=\"52.311\">y1</text>\n",
       "</g>\n",
       "</svg>\n"
      ]
     },
     "execution_count": 28,
     "metadata": {},
     "output_type": "execute_result"
    }
   ],
   "source": [
    "means = [mean(getsomeTas(walk!, 100, xi, a, n, [0.2, 0.8])),\n",
    "    mean(getsomeTas(walk!, 100, xi, a, n, [0.2, 1.0])),\n",
    "    mean(getsomeTas(walk!, 100, xi, a, n, [0.2, 1.2]))]\n",
    "plot([0.8, 1.0, 1.2], means)"
   ]
  },
  {
   "cell_type": "markdown",
   "metadata": {},
   "source": [
    "### Exercise 8(a)"
   ]
  },
  {
   "cell_type": "code",
   "execution_count": 47,
   "metadata": {},
   "outputs": [
    {
     "data": {
      "text/plain": [
       "newton (generic function with 1 method)"
      ]
     },
     "execution_count": 47,
     "metadata": {},
     "output_type": "execute_result"
    }
   ],
   "source": [
    "function newton(f, f_prime, x_0; tolerance = 1E-7, maxiter = 1000)\n",
    "    x_old = x_0\n",
    "    normdiff = Inf\n",
    "    iter = 1\n",
    "    while normdiff > tolerance && iter <= maxiter\n",
    "        x_new = x_old - f(x_old)/f_prime(x_old) #implement the Newtom alg\n",
    "        normdiff = norm(x_new - x_old)\n",
    "        x_old = x_new\n",
    "        iter += 1\n",
    "    end\n",
    "    return (x_old, normdiff, iter)\n",
    "end"
   ]
  },
  {
   "cell_type": "code",
   "execution_count": 48,
   "metadata": {},
   "outputs": [
    {
     "data": {
      "text/plain": [
       "(0.9999998643434097, 6.782829509166532e-8, 40)"
      ]
     },
     "execution_count": 48,
     "metadata": {},
     "output_type": "execute_result"
    }
   ],
   "source": [
    "f(x) = (x-1)^3; f_prime(x) = 3*(x-1)^2; x_0=0;\n",
    "newton(f, f_prime, x_0)"
   ]
  },
  {
   "cell_type": "markdown",
   "metadata": {},
   "source": [
    "Note true root is 1 so check that."
   ]
  },
  {
   "cell_type": "code",
   "execution_count": 49,
   "metadata": {},
   "outputs": [
    {
     "data": {
      "text/plain": [
       "false"
      ]
     },
     "execution_count": 49,
     "metadata": {},
     "output_type": "execute_result"
    }
   ],
   "source": [
    "norm(1-newton(f, f_prime, x_0)[1]) <= 1E-7"
   ]
  },
  {
   "cell_type": "markdown",
   "metadata": {},
   "source": [
    "Comment: not sure why Newton method doesn't converge perfectly with this function, but it works with the next one."
   ]
  },
  {
   "cell_type": "code",
   "execution_count": 53,
   "metadata": {},
   "outputs": [
    {
     "data": {
      "text/plain": [
       "(3.0, 1.3969838619232178e-9, 7)"
      ]
     },
     "execution_count": 53,
     "metadata": {},
     "output_type": "execute_result"
    }
   ],
   "source": [
    "new_f(x) = x^2 - 9; new_f_prime(x) = 2*x\n",
    "newton(new_f, new_f_prime, 1) # can't start at 0 \n",
    "                              # or it's in the denominator"
   ]
  },
  {
   "cell_type": "markdown",
   "metadata": {},
   "source": [
    "Check it converges to the right root: 3."
   ]
  },
  {
   "cell_type": "code",
   "execution_count": 56,
   "metadata": {},
   "outputs": [
    {
     "data": {
      "text/plain": [
       "true"
      ]
     },
     "execution_count": 56,
     "metadata": {},
     "output_type": "execute_result"
    }
   ],
   "source": [
    "norm(3-newton(new_f, new_f_prime, 1)[1]) <= 1E-7"
   ]
  },
  {
   "cell_type": "markdown",
   "metadata": {},
   "source": [
    "### Excercise 8(b)"
   ]
  },
  {
   "cell_type": "code",
   "execution_count": 60,
   "metadata": {},
   "outputs": [
    {
     "data": {
      "text/plain": [
       "(0.9999998643434097, 6.782829509166532e-8, 40)"
      ]
     },
     "execution_count": 60,
     "metadata": {},
     "output_type": "execute_result"
    }
   ],
   "source": [
    "using ForwardDiff\n",
    "D(f) = x -> ForwardDiff.derivative(f, x)\n",
    "f_prime_calc = D(f)\n",
    "\n",
    "#check if this works\n",
    "newton(f, f_prime_calc, 0)"
   ]
  },
  {
   "cell_type": "markdown",
   "metadata": {},
   "source": [
    "Looks the same. Now make it do the differentiation as part of the function itself."
   ]
  },
  {
   "cell_type": "code",
   "execution_count": 61,
   "metadata": {},
   "outputs": [
    {
     "data": {
      "text/plain": [
       "autonewton (generic function with 1 method)"
      ]
     },
     "execution_count": 61,
     "metadata": {},
     "output_type": "execute_result"
    }
   ],
   "source": [
    "function autonewton(f, x_0; tolerance = 1E-7, maxiter = 1000)\n",
    "    Diff(f) = x -> ForwardDiff.derivative(f, x)\n",
    "    f_prime = Diff(f)\n",
    "    x_old = x_0\n",
    "    normdiff = Inf\n",
    "    iter = 1\n",
    "    while normdiff > tolerance && iter <= maxiter\n",
    "        x_new = x_old - f(x_old)/f_prime(x_old) #implement the Newtom alg\n",
    "        normdiff = norm(x_new - x_old)\n",
    "        x_old = x_new\n",
    "        iter += 1\n",
    "    end\n",
    "    return (x_old, normdiff, iter)\n",
    "end"
   ]
  },
  {
   "cell_type": "code",
   "execution_count": 62,
   "metadata": {},
   "outputs": [
    {
     "data": {
      "text/plain": [
       "(0.9999998643434097, 6.782829509166532e-8, 40)"
      ]
     },
     "execution_count": 62,
     "metadata": {},
     "output_type": "execute_result"
    }
   ],
   "source": [
    "autonewton(f, x_0)"
   ]
  },
  {
   "cell_type": "code",
   "execution_count": 63,
   "metadata": {},
   "outputs": [
    {
     "data": {
      "text/plain": [
       "(3.0, 1.3969838619232178e-9, 6)"
      ]
     },
     "execution_count": 63,
     "metadata": {},
     "output_type": "execute_result"
    }
   ],
   "source": [
    "autonewton(new_f, 5)"
   ]
  }
 ],
 "metadata": {
  "kernelspec": {
   "display_name": "Julia 0.6.2",
   "language": "julia",
   "name": "julia-0.6"
  },
  "language_info": {
   "file_extension": ".jl",
   "mimetype": "application/julia",
   "name": "julia",
   "version": "0.6.2"
  }
 },
 "nbformat": 4,
 "nbformat_minor": 2
}
