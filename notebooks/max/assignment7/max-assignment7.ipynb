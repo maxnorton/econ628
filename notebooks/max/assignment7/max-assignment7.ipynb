{
 "cells": [
  {
   "cell_type": "markdown",
   "metadata": {},
   "source": [
    "## Assignment 7\n",
    "Max Norton  \n",
    "November 18, 2018"
   ]
  },
  {
   "cell_type": "markdown",
   "metadata": {},
   "source": [
    "### Exercise 1a\n",
    "\n",
    "I made a [new repo](https://github.com/maxnorton/628-assignment7) with my assignment 6 ipynb and a gitignore ([commit #1](https://github.com/maxnorton/628-assignment7/commit/034d3719a63aef8ba08e634c1bf6fec6872fa4eb)), and then I added a readme ([commit #2](https://github.com/maxnorton/628-assignment7/commit/d7777111d5cdded494907351f7863f844de887ac))."
   ]
  },
  {
   "cell_type": "markdown",
   "metadata": {},
   "source": [
    "### Exercise 1b\n",
    "\n",
    "I made [an issue](https://github.com/maxnorton/628-assignment7/issues/1) and assigned it to [Sam](https://github.com/sgyetvay). He made a commit resolving it [here](https://github.com/maxnorton/628-assignment7/commit/e93183e8804324467a85571279de1dce1baca3af). His change was to add some additional markdown to my [readme](https://github.com/maxnorton/628-assignment7/blob/master/README.md) which compiles perfectly fine.\n",
    "\n",
    "<img src=\"comment.png\">"
   ]
  },
  {
   "cell_type": "markdown",
   "metadata": {},
   "source": [
    "I also made [a commit](https://github.com/sgyetvay/repoman/commit/aabbac826d31a8b31c179f7ba74ea21fcca4d2f5) referencing Sam's issue \\#1 for [his repo](https://github.com/sgyetvay/repoman).\n",
    "\n",
    "I also made [a second issue](https://github.com/maxnorton/628-assignment7/issues/2) that I assigned to [Pedro](http://github.com/pedropessoa)."
   ]
  },
  {
   "cell_type": "markdown",
   "metadata": {},
   "source": [
    "### Exercise 1c"
   ]
  },
  {
   "cell_type": "markdown",
   "metadata": {},
   "source": [
    "#### Sam's repo, repoman\n",
    "\n",
    "Sam and I both edited his [readme](https://github.com/sgyetvay/repoman/blob/master/README.md)--I edited the first line and he edited the second. We pushed our commits, and since I pushed after he did, git took the readme file he'd already pushed and merged it into the readme.md I'd just pushed, in a [third commit](https://github.com/sgyetvay/repoman/commit/a166ff8df9f413dd2b3f34a10d987ac78f99b90f)."
   ]
  },
  {
   "cell_type": "markdown",
   "metadata": {},
   "source": [
    "Then Sam and I both edited the second line of his readme. He pushed first, no problem. Then I tried to push, but my push was rejected because my HEAD was behind the current state of the remote repo. So I pulled, and that created a merge conflict that looked like this:\n",
    "\n",
    "<img src=\"mergeconflict.png\">\n",
    "\n",
    "I cleaned that up into a nice-looking readme, committed the changes and pushed again. The resulting commit is [here](https://github.com/sgyetvay/repoman/commit/13d1f77583f42b06e1c92b2455f912040641cc3a). \n",
    "\n",
    "A nice thing to notice is that this looks a lot like the merge commit that was automatically generated when we edited different lines. The difference is that in that case git was able to figure out the appropriate merge itself, but when we edited the same line, I had to specify exactly how it should merge."
   ]
  },
  {
   "cell_type": "markdown",
   "metadata": {},
   "source": [
    "#### My repo, 628-assignment7\n",
    "\n",
    "<img src=\"mergeconflict-max.png\">"
   ]
  },
  {
   "cell_type": "markdown",
   "metadata": {},
   "source": [
    "I tried to started a readme fight with Sam at `abf144c`, but Pedro pulled down that change and overwrote it in `80f9210`. The ensuing merge, `d37aa58`, was automatic and merged in the \"improve readme introductory phrase\" commit I'd previously made, which I guess Pedro hadn't pulled. Sam's subsequent commit `cc7fce7` conflicted with Pedro's \"factual mistake,\" and Sam manually merged the two at `e0a171f`. "
   ]
  },
  {
   "cell_type": "markdown",
   "metadata": {},
   "source": [
    "### Exercise 2a\n",
    "\n",
    "I thought I'd check out FixedEffectModels.jl to think about the final project. I [proposed a miniscule typo fix](https://github.com/matthieugomez/FixedEffectModels.jl/pull/41) in the readme."
   ]
  },
  {
   "cell_type": "markdown",
   "metadata": {},
   "source": [
    "### Exercise 2b\n",
    "\n",
    "I felt like I'd be pestering Matthieu to make PRs over anything more trivial than \"frist\", so I forked ECON628_2018 and added a couple screenshots for broken image links in the version control lecture. [Here's the PR.](https://github.com/ubcecon/ECON628_2018/pull/7)"
   ]
  },
  {
   "cell_type": "markdown",
   "metadata": {},
   "source": [
    "### Unit testing exercise\n",
    "\n",
    "Here is my [Newton's method package](https://github.com/maxnorton/NewtonsMethod.jl). Currently it's passing all the tests I've set. My code coverage started out at 69% and I added some tests to bring that up, but I've only brought it up to 75%. I wish I knew how to directly test components of functions where assignments occur--it's these simple elements that I can't think of tests for. (I tried a few in [this commit](https://github.com/maxnorton/NewtonsMethod.jl/commit/a972870f81b2868604f4eb384bfadd68b9a09383), but CodeCov doesn't recognize my intentions."
   ]
  },
  {
   "cell_type": "markdown",
   "metadata": {},
   "source": [
    "Now I'm going to push a commit that intentionally breaks the test `@test newtonroot(h, hp, x1, tol=Inf)[3]==1`."
   ]
  },
  {
   "cell_type": "markdown",
   "metadata": {},
   "source": [
    "[Commit.](https://github.com/maxnorton/NewtonsMethod.jl/commit/ab16b7ea2d51075edacf4646a0befd4b46f403e0) Travis reports that the targeted test did in fact fail:\n",
    "\n",
    "<img src=\"travis-error.png\">"
   ]
  },
  {
   "cell_type": "markdown",
   "metadata": {},
   "source": [
    "Intentionally bad commit [reverted](https://github.com/maxnorton/NewtonsMethod.jl/commit/cbed0238734c6ce1bb13f2426e9720b67f297b12), all tests now passing again."
   ]
  }
 ],
 "metadata": {
  "kernelspec": {
   "display_name": "Julia 1.0.1",
   "language": "julia",
   "name": "julia-1.0"
  },
  "language_info": {
   "file_extension": ".jl",
   "mimetype": "application/julia",
   "name": "julia",
   "version": "1.0.1"
  }
 },
 "nbformat": 4,
 "nbformat_minor": 2
}
