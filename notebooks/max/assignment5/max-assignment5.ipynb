{
 "cells": [
  {
   "cell_type": "markdown",
   "metadata": {},
   "source": [
    "## Assignment 5\n",
    "Max Norton  \n",
    "ECON 628"
   ]
  },
  {
   "cell_type": "code",
   "execution_count": 414,
   "metadata": {},
   "outputs": [],
   "source": [
    "using InstantiateFromURL\n",
    "activate_github(\"QuantEcon/QuantEconLecturePackages\", tag=\"v0.3.1\");"
   ]
  },
  {
   "cell_type": "code",
   "execution_count": 415,
   "metadata": {},
   "outputs": [],
   "source": [
    "using LinearAlgebra, Statistics, Compat"
   ]
  },
  {
   "cell_type": "markdown",
   "metadata": {},
   "source": [
    "### Exercise 1"
   ]
  },
  {
   "cell_type": "code",
   "execution_count": null,
   "metadata": {},
   "outputs": [],
   "source": [
    "function findS(A, Σ; S₀=ones(Int(round(length(A)/ndims(A))), Int(round(length(A)/ndims(A)))), tol=1E-6, maxiter=1000)\n",
    "    iter = 0\n",
    "    S_old = S₀\n",
    "    S_new = A*S_old*A' + Σ*Σ'\n",
    "    while norm(S_old - S_new) > tol && iter<maxiter\n",
    "        iter += 1\n",
    "        S_old = S_new\n",
    "        S_new = A*S_old*A' + Σ*Σ'\n",
    "    end\n",
    "    return (S = S_new, iter=iter)\n",
    "end\n",
    "\n",
    "A_arg = [0.8 -0.2; -0.1 0.7]\n",
    "Σ = [0.5 0.4; 0.4 0.6]\n",
    "@show findS(A_arg, Σ)"
   ]
  },
  {
   "cell_type": "code",
   "execution_count": null,
   "metadata": {},
   "outputs": [],
   "source": [
    "using QuantEcon"
   ]
  },
  {
   "cell_type": "code",
   "execution_count": null,
   "metadata": {},
   "outputs": [],
   "source": [
    "solve_discrete_lyapunov(A_arg, Σ*Σ', 1000)"
   ]
  },
  {
   "cell_type": "code",
   "execution_count": null,
   "metadata": {},
   "outputs": [],
   "source": [
    "norm(findS(A_arg, Σ).S - solve_discrete_lyapunov(A_arg, Σ*Σ'))\n"
   ]
  },
  {
   "cell_type": "markdown",
   "metadata": {},
   "source": [
    "### Exercise 2"
   ]
  },
  {
   "cell_type": "code",
   "execution_count": null,
   "metadata": {},
   "outputs": [],
   "source": [
    "function genseries(θ, T; γ=1, σ=1, y₀=0.0)\n",
    "    ser = fill(y₀, T)\n",
    "    for t in 2:T\n",
    "        w = randn()\n",
    "        ser[t] = γ + θ*ser[t-1] + σ*w\n",
    "    end\n",
    "    return ser\n",
    "end\n",
    "\n",
    "function rollingmean(y)\n",
    "    mean = similar(y)\n",
    "    for i in 2:length(y) # could drop 2: but then it recalculates the first entry as y\n",
    "        mean(i) = sum(y[1:i])/i \n",
    "    end\n",
    "    return mean\n",
    "end"
   ]
  },
  {
   "cell_type": "code",
   "execution_count": null,
   "metadata": {},
   "outputs": [],
   "source": [
    "using Plots\n",
    "gr(fmt=:png)\n",
    "\n",
    "Θ=(0.1, 0.5, 0.98)\n",
    "T=30\n",
    "\n",
    "plot(1:T, rollingmean(genseries(Θ[1], 30)), label=\"theta=$(Θ[1])\")\n",
    "plot!(1:T, rollingmean(genseries(Θ[2], 30)), label=\"theta=$(Θ[2])\")\n",
    "plot!(1:T, rollingmean(genseries(Θ[3], 30)), label=\"theta=$(Θ[3])\")\n",
    "# Q: How do I broadcast the plot across all three series rather than calling plot, plot!, plot!? "
   ]
  },
  {
   "cell_type": "code",
   "execution_count": null,
   "metadata": {},
   "outputs": [],
   "source": [
    "using Parameters\n",
    "\n",
    "function simulateseries(params, n)\n",
    "    @unpack θ, T, γ, σ, y₀ = params\n",
    "    simulations = [genseries(θ, T, γ=γ, σ=σ, y₀=y₀) for _ in 1:n]\n",
    "end        \n",
    "\n",
    "paramgen = @with_kw (θ, T=30, γ=1, σ=1, y₀=0.0)\n",
    "\n",
    "N=200\n",
    "\n",
    "yTinstance = zeros(N)\n",
    "yT = fill(yTinstance, 3)\n",
    "label = fill(\"\", 3)\n",
    "\n",
    "for (i, θ) in enumerate(Θ)\n",
    "    sims = simulateseries( paramgen(θ=θ), N )\n",
    "    yT[i] = [sim[end] for sim in sims]\n",
    "    label[i] = \"mean=$(round(mean(yT[i]), digits=3)), var=$(round(var(yT[i]), digits=3))\"\n",
    "end\n",
    "\n",
    "#@show mean(yT1)\n",
    "println(\"Note: var() does a sample-variance correction, so its output does not match the formula given for variance.\")\n",
    "@show var(yT1)==sum(yT1.^2/length(yT1)) - sum(yT1/length(yT1))^2\n",
    "@show var(yT1)==sum((yT1 .- mean(yT1)).^2) / (length(yT1)-1)\n",
    "println(\"To make the code nicer, my figure labels report variance as calculated by var().\")\n",
    "\n",
    "stephist(yT[1], label=label[1])\n",
    "stephist!(yT[2], label=label[2])\n",
    "stephist!(yT[3], label=label[3])"
   ]
  },
  {
   "cell_type": "code",
   "execution_count": null,
   "metadata": {},
   "outputs": [],
   "source": [
    "# Above I was trying to broadcast plot() and couldn't get it to work. However, passing an array to stephist() appears to work, because the code below generates the exact same hist:\n",
    "\n",
    "stephist(yT[1:3], label=label[1:3])\n",
    "\n",
    "# Suggests the following answer for simplifying my plot calls: \n",
    "# 1. build out each rollingmean series\n",
    "# 2. save them all in a single array (of arrays)\n",
    "# 3. save some labels in an array\n",
    "# 4. pass those arrays to plot"
   ]
  },
  {
   "cell_type": "markdown",
   "metadata": {},
   "source": [
    "### Exercise 3 "
   ]
  },
  {
   "cell_type": "code",
   "execution_count": null,
   "metadata": {},
   "outputs": [],
   "source": [
    "N=50\n",
    "M=20\n",
    "params = (a=0.1, b=0.2, c=0.5, d=1.0, σ=0.1)\n",
    "\n",
    "x1 = randn(N)\n",
    "x2 = randn(N)\n",
    "\n",
    "# some simple helper functions\n",
    "dgp(x1, x2, a, b, c, d)  = a*x1 .+ b*x1.^2 .+ c*x2 .+ d\n",
    "olscoeff(y, x) = (x'*x)\\(x'*y)\n",
    "\n",
    "function simulatey(x1, x2, params) # simulate N observations of y\n",
    "    w = randn(N)\n",
    "    @unpack a, b, c, d, σ = params\n",
    "    dgp(x1, x2, a, b, c, d) + σ.*w\n",
    "end\n",
    "\n",
    "function repeatsims(M, x1, x2, params) # generate M sets of N observations on (Y, X)\n",
    "    sims = fill(zeros(N), M)\n",
    "    for i in 1:M\n",
    "        sims[i]=simulatey(x1, x2, params)\n",
    "    end\n",
    "    return sims\n",
    "end\n",
    "\n",
    "function getestimates(y, z) # estimate coefficients for each independent variable \n",
    "    estimate = z'z\\z'y\n",
    "    push!(estimate, eststdev(y, z, estimate))\n",
    "    return estimate\n",
    "end    \n",
    "\n",
    "function eststdev(y, z, est) # estimate σ based on observed y and coefficient estimates\n",
    "    a = est[1]; b=est[2]; c=est[3]; d=est[4] #how to do this in a more generic fashion?\n",
    "    err = y .- dgp(z[:,1], z[:,3], a, b, c, d)\n",
    "    return sqrt(var(err)) \n",
    "end\n",
    "\n",
    "exes = hcat(x1, x1.^2, x2, ones(N))\n",
    "sims = repeatsims(M, x1, x2, params)\n",
    "getestimates(sims[1][:], exes)"
   ]
  },
  {
   "cell_type": "code",
   "execution_count": null,
   "metadata": {},
   "outputs": [],
   "source": [
    "estimates=zeros(5,M)\n",
    "for i in 1:M\n",
    "    estimates[:,i] = getestimates(sims[i][:], exes)\n",
    "end\n",
    "\n",
    "stephist(estimates[1,:], label=\"a, mean=$(round(mean(estimates[1,:]), digits=3))\")\n",
    "stephist!(estimates[2,:], label=\"b, mean=$(round(mean(estimates[2,:]), digits=3))\")\n",
    "stephist!(estimates[3,:], label=\"c, mean=$(round(mean(estimates[3,:]), digits=3))\")\n",
    "stephist!(estimates[4,:], label=\"d, mean=$(round(mean(estimates[4,:]), digits=3))\")\n",
    "stephist!(estimates[5,:], label=\"sigma, mean=$(round(mean(estimates[5,:]), digits=3))\")"
   ]
  },
  {
   "cell_type": "markdown",
   "metadata": {},
   "source": [
    "It seems like there could be a more stylish way to store the estimates than a giant unlabelled matrix; perhaps output a tuple from getestimates(), create independent arrays for each parameter, and plot/take means over each array separately. But I already dislike how specifically my eststdev function is linked to the functional form of the dgp, and naming a tuple that getestimates() returns would similarly degeneralize that function. With more time to think it through, could probably untangle this and find a more elegant solution."
   ]
  },
  {
   "cell_type": "code",
   "execution_count": null,
   "metadata": {},
   "outputs": [],
   "source": [
    "histogram(estimates', layout=5, label=[\"a\" \"b\" \"c\" \"d\" \"sigma\"])"
   ]
  },
  {
   "cell_type": "code",
   "execution_count": null,
   "metadata": {},
   "outputs": [],
   "source": []
  }
 ],
 "metadata": {
  "filename": "fundamental_types.rst",
  "kernelspec": {
   "display_name": "Julia 1.0.1",
   "language": "julia",
   "name": "julia-1.0"
  },
  "language_info": {
   "file_extension": ".jl",
   "mimetype": "application/julia",
   "name": "julia",
   "version": "1.0.1"
  },
  "title": "Arrays, Tuples, Ranges, and Other Fundamental Types"
 },
 "nbformat": 4,
 "nbformat_minor": 2
}
